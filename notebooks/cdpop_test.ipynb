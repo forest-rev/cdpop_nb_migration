{
 "cells": [
  {
   "cell_type": "markdown",
   "id": "f5c33943-fa7f-45a0-97b7-08b5d042382d",
   "metadata": {},
   "source": [
    "# CDPOP to Notebook Migration"
   ]
  },
  {
   "cell_type": "markdown",
   "id": "13aae3fe-df28-482d-9109-b986ccb899a1",
   "metadata": {},
   "source": [
    "#### Author: Patrick Jantz\n",
    "#### Date: March 9, 2023\n",
    "#### Contact: Patrick.Jantz@nau.edu\n",
    "#### Purpose:\n",
    "CDPOP currently runs from the command line. <br>\n",
    "Running CDPOP from a python notebook facilitates interactive analysis and lay the groundwork for development of a web application for non-technical users. <br>\n",
    "This script is for testing different approaches for migrating CDPOP to a python notebook and adding desired functionality.\n",
    "\n",
    "#### Notes:\n",
    "Clone CDPOP using Git bash shell or GUI (shell commands below) <br>\n",
    "git clone https://github.com/ComputationalEcologyLab/CDPOP.git <br>\n",
    "Set up an empty repo in Git. e.g. cdpop_nb_migration <br>\n",
    "Change the remote to the repo you just set up <br>\n",
    "git remote add origin https://github.com/forest-rev/cdpop_nb_migration.git <br>\n",
    "git branch -M main <br>\n",
    "git push -u origin main <br>\n",
    "\n",
    "If you specify a full path for the output directory, it will throw an error. <br>\n",
    "OSError: [WinError 123] The filename, directory name, or volume label syntax is incorrect:<br>'C:\\\\Users\\\\pj276\\\\Projects\\\\CDPOP\\\\data/C:\\\\Users\\\\pj276\\\\Projects\\\\CDPOP\\\\output_test1678386843/'\n"
   ]
  },
  {
   "cell_type": "code",
   "execution_count": 111,
   "id": "e4d980cf-955a-4994-bbad-c9afc8bfd72d",
   "metadata": {},
   "outputs": [],
   "source": [
    "# Imports\n",
    "import pandas as pd\n",
    "import ipywidgets as widgets\n",
    "import ipysheet\n",
    "from ipysheet import from_dataframe, to_dataframe\n",
    "from pathlib import Path\n"
   ]
  },
  {
   "cell_type": "code",
   "execution_count": 89,
   "id": "fbe10344-6c32-4cd1-b580-e9a980adf41d",
   "metadata": {},
   "outputs": [
    {
     "name": "stdout",
     "output_type": "stream",
     "text": [
      "Type or paste input data directory in the box below, then hit Enter.\n",
      "Spaces in path are not allowed.\n",
      "Do not enclose directory path in quotes.\n",
      "E.g. C:/Users/pj276/cdpop_jupyter_migration/cdpop_test_runs/r1/CDPOP/data\n"
     ]
    },
    {
     "data": {
      "application/vnd.jupyter.widget-view+json": {
       "model_id": "5214bd73cb944e9f9d2c35df9a5dd796",
       "version_major": 2,
       "version_minor": 0
      },
      "text/plain": [
       "Text(value='', description='Input data directory', layout=Layout(border_bottom='3px solid blue', border_left='…"
      ]
     },
     "execution_count": 89,
     "metadata": {},
     "output_type": "execute_result"
    }
   ],
   "source": [
    "print('Type or paste CDPOP data directory in the box below, then hit Enter.')\n",
    "print('Spaces in path are not allowed.')\n",
    "print('Do not enclose directory path in quotes.')\n",
    "print('E.g. C:/Users/pj276/cdpop_jupyter_migration/cdpop_test_runs/r1/CDPOP/data')\n",
    "style = {'description_width': 'initial'}\n",
    "inDirBox = widgets.Text(description='CDPOP data directory',\n",
    "                        style=style,\n",
    "                        layout = widgets.Layout(width='800px', border='3px solid blue'))\n",
    "inDirBox"
   ]
  },
  {
   "cell_type": "code",
   "execution_count": 90,
   "id": "990032b0-9e2d-419b-8d1c-46f5fadae34c",
   "metadata": {},
   "outputs": [
    {
     "name": "stdout",
     "output_type": "stream",
     "text": [
      "Input data directory is set to: \n",
      "C:/Users/pj276/cdpop_jupyter_migration/cdpop_test_runs/r1/CDPOP/data\n"
     ]
    }
   ],
   "source": [
    "idd = inDirBox.value\n",
    "print('Input data directory is set to: \\n' + idd)"
   ]
  },
  {
   "cell_type": "code",
   "execution_count": 92,
   "id": "ff18b87d-1ef7-4cbb-a340-c2f1e09c3fad",
   "metadata": {},
   "outputs": [
    {
     "name": "stdout",
     "output_type": "stream",
     "text": [
      "Type or paste path to parameter file in the box below.\n",
      "Spaces are not allowed.\n",
      "Do not enclose path in quotes.\n",
      "E.g. C:/Users/pj276/cdpop_jupyter_migration/cdpop_test_runs/r1/CDPOP/data/inputvars.csv\n"
     ]
    },
    {
     "data": {
      "application/vnd.jupyter.widget-view+json": {
       "model_id": "7103ef15b3c5462799ff99932d718554",
       "version_major": 2,
       "version_minor": 0
      },
      "text/plain": [
       "Text(value='', description='Input parameter file', layout=Layout(border_bottom='3px solid blue', border_left='…"
      ]
     },
     "execution_count": 92,
     "metadata": {},
     "output_type": "execute_result"
    }
   ],
   "source": [
    "print('Type or paste path to parameter file in the box below.')\n",
    "print('Spaces are not allowed.')\n",
    "print('Do not enclose path in quotes.')\n",
    "print('E.g. C:/Users/pj276/cdpop_jupyter_migration/cdpop_test_runs/r1/CDPOP/data/inputvars.csv')\n",
    "style = {'description_width': 'initial'}\n",
    "inParamsBox = widgets.Text(description='Input parameter file',\n",
    "                        style=style,\n",
    "                        layout = widgets.Layout(width='800px', border='3px solid blue'))\n",
    "inParamsBox"
   ]
  },
  {
   "cell_type": "code",
   "execution_count": 112,
   "id": "0811c920-5a96-49bf-9e04-bc94ddf5312c",
   "metadata": {},
   "outputs": [
    {
     "name": "stdout",
     "output_type": "stream",
     "text": [
      "Input parameter file is set to: \n",
      "C:/Users/pj276/cdpop_jupyter_migration/cdpop_test_runs/r1/CDPOP/data/inputvars.csv\n"
     ]
    }
   ],
   "source": [
    "print('Input parameter file is set to: \\n' + inParamsBox.value)"
   ]
  },
  {
   "cell_type": "code",
   "execution_count": 113,
   "id": "89dbc098-5a52-4b67-b59a-d72f552caae5",
   "metadata": {},
   "outputs": [],
   "source": [
    "paramPath = Path(inParamsBox.value)\n",
    "# Read in csv containing parameters\n",
    "params = pd.read_csv(paramPath)\n",
    "#params = pd.read_csv(r\"C:\\Users\\pj276\\cdpop_jupyter_migration\\cdpop_test_runs\\r1\\CDPOP\\data\\inputvars.csv\")"
   ]
  },
  {
   "cell_type": "code",
   "execution_count": 114,
   "id": "b7c56c0a-4921-4cb3-a482-faa797e5ec9f",
   "metadata": {},
   "outputs": [
    {
     "data": {
      "application/vnd.jupyter.widget-view+json": {
       "model_id": "db8d190b912c4789bc64a4ea2c0e304a",
       "version_major": 2,
       "version_minor": 0
      },
      "text/plain": [
       "VBox(children=(HBox(children=(Button(description='Add Row', style=ButtonStyle()), Button(description='Add Colu…"
      ]
     },
     "metadata": {},
     "output_type": "display_data"
    }
   ],
   "source": [
    "# Convert to sheet\n",
    "paramsheet = from_dataframe(params)\n",
    "\n",
    "# Widgets for adding rows and columns \n",
    "row_button = widgets.Button(description='Add Row')\n",
    "column_button = widgets.Button(description='Add Column')\n",
    "out = widgets.Output()\n",
    "\n",
    "def add_row(_):\n",
    "    paramsheet.rows += 1\n",
    "    for col in paramsheet.cells: # this assumes that each cell is a column, this might break otherwise\n",
    "        col.row_end +=1\n",
    "        col = np.append(col,[None]) # Change None to whatever default value you want\n",
    "def add_column(_):\n",
    "    paramsheet.columns +=1 # Need to increment index first to avoid a ValueError\n",
    "    ipysheet.column(paramsheet.columns-1,[None]*paramsheet.rows) \n",
    "            \n",
    "row_button.on_click(add_row)\n",
    "column_button.on_click(add_column)\n",
    "\n",
    "display(widgets.VBox([widgets.HBox([row_button,column_button]),paramsheet]))\n",
    "# To edit values in a cell, double click in the cell of interest and change as needed.\n",
    "# If you want to copy and paste values, highlight the cells you want to copy, hit CTRL-C\n",
    "# Highlight the cell where you want to copy, hit CTRL-V\n",
    "# *Note, if you rerun this cell, it will revert back to the csv on file."
   ]
  },
  {
   "cell_type": "code",
   "execution_count": 74,
   "id": "9da966f4-08e4-4bdd-b2e4-3c350cfb39db",
   "metadata": {},
   "outputs": [],
   "source": [
    "# If you made changes to the spreadsheet, create an updated data frame and save\n",
    "#paramsdf = to_dataframe(paramsheet)\n",
    "# Write to file.\n",
    "#paramsdf.to_csv(r\"C:\\Users\\pj276\\Projects\\CDPOP\\data\\inputvars_updated.csv\", index=False)"
   ]
  },
  {
   "cell_type": "code",
   "execution_count": 96,
   "id": "1b1e8a47-b71c-487d-9bd0-951af45331b6",
   "metadata": {},
   "outputs": [
    {
     "name": "stdout",
     "output_type": "stream",
     "text": [
      "Current directory is:\n"
     ]
    },
    {
     "data": {
      "text/plain": [
       "'C:\\\\Users\\\\pj276\\\\Projects\\\\CDPOP\\\\src'"
      ]
     },
     "execution_count": 96,
     "metadata": {},
     "output_type": "execute_result"
    }
   ],
   "source": [
    "# Check directory\n",
    "print('Current directory is:')\n",
    "%pwd"
   ]
  },
  {
   "cell_type": "code",
   "execution_count": 97,
   "id": "532247fe-3987-4044-aa54-cfacb048cc84",
   "metadata": {},
   "outputs": [
    {
     "name": "stdout",
     "output_type": "stream",
     "text": [
      "Type or paste path to CDPOP source code.\n",
      "Spaces are not allowed.\n",
      "Do not enclose path in quotes.\n",
      "E.g. C:/Users/pj276/Projects/CDPOP/src\n"
     ]
    },
    {
     "data": {
      "application/vnd.jupyter.widget-view+json": {
       "model_id": "6b80e7e1de744829958c71e7eef6750e",
       "version_major": 2,
       "version_minor": 0
      },
      "text/plain": [
       "Text(value='', description='Path to CDPOP source code', layout=Layout(border_bottom='3px solid blue', border_l…"
      ]
     },
     "execution_count": 97,
     "metadata": {},
     "output_type": "execute_result"
    }
   ],
   "source": [
    "print('Type or paste path to CDPOP source code.')\n",
    "print('Spaces are not allowed.')\n",
    "print('Do not enclose path in quotes.')\n",
    "print('E.g. C:/Users/pj276/Projects/CDPOP/src')\n",
    "style = {'description_width': 'initial'}\n",
    "inSourceBox = widgets.Text(description='Path to CDPOP source code',\n",
    "                        style=style,\n",
    "                        layout = widgets.Layout(width='800px', border='3px solid blue'))\n",
    "inSourceBox"
   ]
  },
  {
   "cell_type": "code",
   "execution_count": 98,
   "id": "4b154974-dfc6-4d61-b3b3-17fabbcd1ba0",
   "metadata": {},
   "outputs": [
    {
     "name": "stdout",
     "output_type": "stream",
     "text": [
      "Current directory is:\n",
      "C:\\Users\\pj276\\Projects\\CDPOP\\src\n"
     ]
    }
   ],
   "source": [
    "# Change to directory holding CDPOP scripts\n",
    "srcPath = inSourceBox.value\n",
    "print('Current directory is:')\n",
    "%cd {srcPath}"
   ]
  },
  {
   "cell_type": "code",
   "execution_count": 99,
   "id": "1d60f5da-5f80-4bb3-8fe1-3a5065301cb3",
   "metadata": {},
   "outputs": [
    {
     "name": "stdout",
     "output_type": "stream",
     "text": [
      "Type or paste base of output directory name.\n",
      "Spaces are not allowed.\n",
      "Do not enclose name in quotes.\n",
      "E.g. cdpop_scenario1_\n",
      "A unique ID will be appended to the base directory name upon completion\n"
     ]
    },
    {
     "data": {
      "application/vnd.jupyter.widget-view+json": {
       "model_id": "6283fc6819fb401597ec8d8c7fbaddae",
       "version_major": 2,
       "version_minor": 0
      },
      "text/plain": [
       "Text(value='', description='Output directory name', layout=Layout(border_bottom='3px solid blue', border_left=…"
      ]
     },
     "execution_count": 99,
     "metadata": {},
     "output_type": "execute_result"
    }
   ],
   "source": [
    "print('Type or paste base of output directory name.')\n",
    "print('Spaces are not allowed.')\n",
    "print('Do not enclose name in quotes.')\n",
    "print('E.g. cdpop_scenario1_')\n",
    "print('A unique ID will be appended to the base directory name upon completion')\n",
    "style = {'description_width': 'initial'}\n",
    "baseNameBox = widgets.Text(description='Output directory name',\n",
    "                        style=style,\n",
    "                        layout = widgets.Layout(width='800px', border='3px solid blue'))\n",
    "baseNameBox"
   ]
  },
  {
   "cell_type": "code",
   "execution_count": 117,
   "id": "037fe443-ba71-4339-aeab-3154482b4fad",
   "metadata": {},
   "outputs": [
    {
     "name": "stdout",
     "output_type": "stream",
     "text": [
      "DoUserInput():  0:00:00.000507 \n",
      "DoPreProcess():  0:00:00.001095 \n",
      "DoCDClimate():  0:00:00 \n",
      "GetMetrics():  0:00:00 \n",
      "DoMate():  0:00:00 \n",
      "DoOffspring():  0:00:00 \n",
      "InheritGenes():  0:00:00 \n",
      "DoAdultMortality():  0:00:00 \n",
      "DoDisperse():  0:00:00 \n",
      "DoOutput():  0:00:00 \n",
      "End Generation Loop 0 :  0:00:00 \n",
      "\n",
      "ReadGrid():  0:00:00 \n",
      "GetMetrics():  0:00:00 \n",
      "DoMate():  0:00:00 \n",
      "DoOffspring():  0:00:00 \n",
      "InheritGenes():  0:00:00.017978 \n",
      "DoAdultMortality():  0:00:00.001001 \n",
      "DoDisperse():  0:00:00.000998 \n",
      "DoOutput():  0:00:00.003969 \n",
      "End Generation Loop 1 :  0:00:00.023946 \n",
      "\n",
      "ReadGrid():  0:00:00 \n",
      "GetMetrics():  0:00:00.001001 \n",
      "DoMate():  0:00:00.000997 \n",
      "DoOffspring():  0:00:00.001000 \n",
      "InheritGenes():  0:00:00.002357 \n",
      "DoAdultMortality():  0:00:00 \n",
      "DoDisperse():  0:00:00 \n",
      "DoOutput():  0:00:00 \n",
      "End Generation Loop 2 :  0:00:00.005355 \n",
      "\n",
      "ReadGrid():  0:00:00 \n",
      "GetMetrics():  0:00:00 \n",
      "DoMate():  0:00:00 \n",
      "DoOffspring():  0:00:00 \n",
      "InheritGenes():  0:00:00 \n",
      "DoAdultMortality():  0:00:00 \n",
      "DoDisperse():  0:00:00 \n",
      "DoOutput():  0:00:00 \n",
      "End Generation Loop 3 :  0:00:00 \n",
      "\n",
      "ReadGrid():  0:00:00 \n",
      "GetMetrics():  0:00:00 \n",
      "DoMate():  0:00:00 \n",
      "DoOffspring():  0:00:00 \n",
      "InheritGenes():  0:00:00.015632 \n",
      "DoAdultMortality():  0:00:00 \n",
      "DoDisperse():  0:00:00 \n",
      "DoOutput():  0:00:00 \n",
      "End Generation Loop 4 :  0:00:00.015632 \n",
      "\n",
      "DoPostProcess():  0:00:00 \n",
      "End Monte Carlo Loop 0 :  0:00:00.046028 \n",
      "\n",
      "End Batch Loop 0 :  0:00:00.046028 \n",
      "\n",
      "Total CDPOP Simulation Time:  0:00:00.047176 \n"
     ]
    }
   ],
   "source": [
    "# Run test\n",
    "#%run CDPOP C:\\Users\\pj276\\Projects\\CDPOP\\data inputvars.csv output_test\n",
    "#%run CDPOP {idd} inputvars.csv output_test2\n",
    "%run CDPOP {idd} {paramPath.name} {baseNameBox.value}"
   ]
  },
  {
   "cell_type": "code",
   "execution_count": null,
   "id": "d41d0670-2fc6-4eb0-9cda-9ab956d1081a",
   "metadata": {},
   "outputs": [],
   "source": [
    "# Notes\n",
    "# If you specify a full path for the output directory, it will throw an error\n",
    "# OSError: [WinError 123] The filename, directory name, or volume label syntax is incorrect: 'C:\\\\Users\\\\pj276\\\\Projects\\\\CDPOP\\\\data/C:\\\\Users\\\\pj276\\\\Projects\\\\CDPOP\\\\output_test1678386843/'\n"
   ]
  },
  {
   "cell_type": "markdown",
   "id": "39cb25b6-97d7-4f03-af63-a5368969d0ea",
   "metadata": {},
   "source": [
    "#### UNICOR"
   ]
  },
  {
   "cell_type": "code",
   "execution_count": 134,
   "id": "740dc4cb-cdfd-4b67-8ff9-0e07b5385c73",
   "metadata": {},
   "outputs": [
    {
     "name": "stdout",
     "output_type": "stream",
     "text": [
      "[WindowsPath('C:/Users/pj276/cdpop_jupyter_migration/cdpop_test_runs/r1/CDPOP/data/cdpop_scenario3_1682103286/batchrun0mcrun0/XY0.csv'), WindowsPath('C:/Users/pj276/cdpop_jupyter_migration/cdpop_test_runs/r1/CDPOP/data/cdpop_scenario3_1682103286/batchrun0mcrun0/XY1.csv'), WindowsPath('C:/Users/pj276/cdpop_jupyter_migration/cdpop_test_runs/r1/CDPOP/data/cdpop_scenario3_1682103286/batchrun0mcrun0/XY2.csv'), WindowsPath('C:/Users/pj276/cdpop_jupyter_migration/cdpop_test_runs/r1/CDPOP/data/cdpop_scenario3_1682103286/batchrun0mcrun0/XY3.csv'), WindowsPath('C:/Users/pj276/cdpop_jupyter_migration/cdpop_test_runs/r1/CDPOP/data/cdpop_scenario3_1682103286/batchrun0mcrun0/XY4.csv'), WindowsPath('C:/Users/pj276/cdpop_jupyter_migration/cdpop_test_runs/r1/CDPOP/data/cdpop_scenario3_1682103286/batchrun0mcrun0/XY5.csv')]\n"
     ]
    }
   ],
   "source": [
    "# List xy files from CDPOP output\n",
    "uniXY = Path(idd)\n",
    "uniPath = Path(list(uniXY.glob(baseNameBox.value + '*'))[0])\n",
    "fList = list(uniPath.glob('**/*'))\n",
    "xyFiles = [i for i in fList if 'XY' in str(i)]\n",
    "print(xyFiles)\n",
    "# Run UNICOR? \n",
    "# If yes\n",
    "# Find output folder\n",
    "# List XY files\n",
    "# Calculate resistant kernels for each XY\n"
   ]
  },
  {
   "cell_type": "markdown",
   "id": "fca6d6d9-20e2-44d9-8eb6-73b0611993f5",
   "metadata": {},
   "source": [
    "##### OVERFLOW"
   ]
  },
  {
   "cell_type": "code",
   "execution_count": 17,
   "id": "ff71605e-f78f-4648-8be3-7bd03efe156e",
   "metadata": {},
   "outputs": [
    {
     "data": {
      "application/vnd.jupyter.widget-view+json": {
       "model_id": "d24825eba93a443093301f160d628f10",
       "version_major": 2,
       "version_minor": 0
      },
      "text/plain": [
       "Sheet(cells=(Cell(column_start=0, row_end=0, row_start=0, squeeze_column=False, type='numeric', value=[1, 2, 3…"
      ]
     },
     "execution_count": 17,
     "metadata": {},
     "output_type": "execute_result"
    }
   ],
   "source": [
    "# ipysheet testing\n",
    "from ipysheet import sheet, row\n",
    "s1 = sheet()\n",
    "row(0, [1, 2, 3, 34, 5])                    # The Cell type will be 'numeric'\n",
    "row(1, [True, False, True], column_start=2) # The Cell type will be 'checkbox'\n",
    "s1"
   ]
  },
  {
   "cell_type": "code",
   "execution_count": null,
   "id": "2ddce735-aa99-4870-842b-53a0a7076387",
   "metadata": {},
   "outputs": [],
   "source": [
    "# Remove rows. Not sure how to do this yet.\n",
    "# paramsheet.rows -=1"
   ]
  },
  {
   "cell_type": "code",
   "execution_count": null,
   "id": "9f6e2b30-1f1c-46fc-a00b-5b743a4963e0",
   "metadata": {},
   "outputs": [],
   "source": [
    "# Hack to rename new column added to end of sheet.\n",
    "# Should update dynamically above\n",
    "#paramsheet.column_headers = paramsheet.column_headers + ['output_unicor']\n",
    "#paramsheet.column_headers = paramsheet.column_headers + ['mateFrequency']\n",
    "#paramsheet.column_headers = paramsheet.column_headers + ['epistasis']"
   ]
  },
  {
   "cell_type": "code",
   "execution_count": null,
   "id": "91d2552b-efaa-477d-a619-d52e3fe04fa0",
   "metadata": {},
   "outputs": [],
   "source": [
    "# Input files\n",
    "# Parameter file\n",
    "# inputvars.csv\n",
    "\n",
    "# In parameter file\n",
    "# xyfilename -- xyfiles/xyED16_known_NAs, xyfiles/xyED16_hetmort, xyfiles/xyED16\n",
    "# agefilename -- agevars/Agevars_nonOverlap.csv, agevars/Agevars_nonOverlap.csv, agevars/Agevars_nonOverlap.csv\n",
    "# matecdmat -- cdmats/EDcdmatrix16, cdmats/EDcdmatrix16, cdmats/EDcdmatrix16\n",
    "# dispcdmat -- cdmats/EDcdmatrix16, cdmats/EDcdmatrix16, cdmats/EDcdmatrix16\n",
    "# allefreqfilename -- genefiles/allelefrequencyA, N, genefiles/allelefrequencyC_varAlleles"
   ]
  }
 ],
 "metadata": {
  "kernelspec": {
   "display_name": "Python [conda env:cdujlab] *",
   "language": "python",
   "name": "conda-env-cdujlab-py"
  },
  "language_info": {
   "codemirror_mode": {
    "name": "ipython",
    "version": 3
   },
   "file_extension": ".py",
   "mimetype": "text/x-python",
   "name": "python",
   "nbconvert_exporter": "python",
   "pygments_lexer": "ipython3",
   "version": "3.10.9"
  }
 },
 "nbformat": 4,
 "nbformat_minor": 5
}
