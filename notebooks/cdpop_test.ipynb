{
 "cells": [
  {
   "cell_type": "markdown",
   "id": "f5c33943-fa7f-45a0-97b7-08b5d042382d",
   "metadata": {},
   "source": [
    "# CDPOP to Notebook Migration"
   ]
  },
  {
   "cell_type": "markdown",
   "id": "a8f785a6-4bf0-4a07-8ee7-828c063eaa6e",
   "metadata": {},
   "source": [
    "#### Author: Patrick Jantz\n",
    "#### Date: March 9, 2023\n",
    "#### Contact: Patrick.Jantz@nau.edu\n",
    "#### Purpose:\n",
    "CDPOP currently runs from the command line. <br>\n",
    "Running CDPOP from a python notebook should facilitate interactive analysis and lay the groundwork for development of a web application for non-technical users. <br>\n",
    "This script is for testing different approaches for migrating CDPOP to a python notebook and adding desired functionality.\n",
    "\n",
    "#### Notes:\n",
    "Clone CDPOP using Git bash shell or GUI (shell commands below) <br>\n",
    "git clone https://github.com/ComputationalEcologyLab/CDPOP.git <br>\n",
    "Set up an empty repo in Git. e.g. cdpop_nb_migration <br>\n",
    "Change the remote to the repo you just set up <br>\n",
    "git remote add origin https://github.com/forest-rev/cdpop_nb_migration.git <br>\n",
    "git branch -M main <br>\n",
    "git push -u origin main <br>\n",
    "\n",
    "If you specify a full path for the output directory, it will throw an error. <br>\n",
    "OSError: [WinError 123] The filename, directory name, or volume label syntax is incorrect:<br>'C:\\\\Users\\\\pj276\\\\Projects\\\\CDPOP\\\\data/C:\\\\Users\\\\pj276\\\\Projects\\\\CDPOP\\\\output_test1678386843/'\n"
   ]
  },
  {
   "cell_type": "code",
   "execution_count": 28,
   "id": "e4d980cf-955a-4994-bbad-c9afc8bfd72d",
   "metadata": {},
   "outputs": [],
   "source": [
    "# Imports\n",
    "import pandas as pd\n",
    "import ipywidgets as widgets\n",
    "import ipysheet\n",
    "from ipysheet import from_dataframe, to_dataframe\n"
   ]
  },
  {
   "cell_type": "code",
   "execution_count": 47,
   "id": "990032b0-9e2d-419b-8d1c-46f5fadae34c",
   "metadata": {},
   "outputs": [],
   "source": [
    "# Set input data directory. Can't have any spaces.\n",
    "idd = r\"C:\\Users\\pj276\\cdpop_jupyter_migration\\cdpop_test_runs\\r1\\CDPOP\\data\""
   ]
  },
  {
   "cell_type": "code",
   "execution_count": 48,
   "id": "89dbc098-5a52-4b67-b59a-d72f552caae5",
   "metadata": {},
   "outputs": [],
   "source": [
    "# Read in csv containing parameters\n",
    "#params = pd.read_csv(r\"C:\\Users\\pj276\\Projects\\CDPOP\\data\\inputvars.csv\")\n",
    "params = pd.read_csv(r\"C:\\Users\\pj276\\cdpop_jupyter_migration\\cdpop_test_runs\\r1\\CDPOP\\data\\inputvars.csv\")"
   ]
  },
  {
   "cell_type": "code",
   "execution_count": 49,
   "id": "b7c56c0a-4921-4cb3-a482-faa797e5ec9f",
   "metadata": {},
   "outputs": [
    {
     "data": {
      "application/vnd.jupyter.widget-view+json": {
       "model_id": "096a7efa445f49f0bbf1e211cf2119f2",
       "version_major": 2,
       "version_minor": 0
      },
      "text/plain": [
       "VBox(children=(HBox(children=(Button(description='Add Row', style=ButtonStyle()), Button(description='Add Colu…"
      ]
     },
     "metadata": {},
     "output_type": "display_data"
    }
   ],
   "source": [
    "# Convert to sheet\n",
    "paramsheet = from_dataframe(params)\n",
    "\n",
    "# Widgets for adding rows and columns \n",
    "row_button = widgets.Button(description='Add Row')\n",
    "column_button = widgets.Button(description='Add Column')\n",
    "out = widgets.Output()\n",
    "\n",
    "def add_row(_):\n",
    "    paramsheet.rows += 1\n",
    "    for col in paramsheet.cells: # this assumes that each cell is a column, this might break otherwise\n",
    "        col.row_end +=1\n",
    "        col = np.append(col,[None]) # Change None to whatever default value you want\n",
    "def add_column(_):\n",
    "    paramsheet.columns +=1 # Need to increment index first to avoid a ValueError\n",
    "    ipysheet.column(paramsheet.columns-1,[None]*paramsheet.rows) \n",
    "            \n",
    "row_button.on_click(add_row)\n",
    "column_button.on_click(add_column)\n",
    "\n",
    "display(widgets.VBox([widgets.HBox([row_button,column_button]),paramsheet]))\n",
    "# To edit values in a cell, double click in the cell of interest and change as needed.\n",
    "# If you want to copy and paste values, highlight the cells you want to copy, hit CTRL-C\n",
    "# Highlight the cell where you want to copy, hit CTRL-V\n",
    "# *Note, if you rerun this cell, it will revert back to the csv on file."
   ]
  },
  {
   "cell_type": "code",
   "execution_count": 19,
   "id": "65efd0b3-d72e-4ab4-894a-01041a53921c",
   "metadata": {},
   "outputs": [],
   "source": [
    "# Hack to rename new column added to end of sheet.\n",
    "# Should update dynamically above\n",
    "#paramsheet.column_headers = paramsheet.column_headers + ['output_unicor']\n",
    "#paramsheet.column_headers = paramsheet.column_headers + ['mateFrequency']\n",
    "#paramsheet.column_headers = paramsheet.column_headers + ['epistasis']"
   ]
  },
  {
   "cell_type": "code",
   "execution_count": 22,
   "id": "202ffa7c-c54b-4bad-8c9a-21ac25211959",
   "metadata": {},
   "outputs": [],
   "source": [
    "# Remove rows. Not sure how to do this yet.\n",
    "# paramsheet.rows -=1"
   ]
  },
  {
   "cell_type": "code",
   "execution_count": 50,
   "id": "f98ba94e-36fc-4c6d-bcef-88bc0de55f90",
   "metadata": {},
   "outputs": [
    {
     "data": {
      "text/plain": [
       "['xyfilename',\n",
       " 'agefilename',\n",
       " 'mcruns',\n",
       " 'looptime',\n",
       " 'output_years',\n",
       " 'gridformat',\n",
       " 'cdclimgentime',\n",
       " 'output_unicor',\n",
       " 'matecdmat',\n",
       " 'dispcdmat',\n",
       " 'matemoveno',\n",
       " 'matemoveparA',\n",
       " 'matemoveparB',\n",
       " 'matemoveparC',\n",
       " 'matemovethresh',\n",
       " 'output_matedistance',\n",
       " 'sexans',\n",
       " 'Freplace',\n",
       " 'Mreplace',\n",
       " 'philopatry',\n",
       " 'multiple_paternity',\n",
       " 'selfans',\n",
       " 'mateFrequency',\n",
       " 'Fdispmoveno',\n",
       " 'FdispmoveparA',\n",
       " 'FdispmoveparB',\n",
       " 'FdispmoveparC',\n",
       " 'Fdispmovethresh',\n",
       " 'Mdispmoveno',\n",
       " 'MdispmoveparA',\n",
       " 'MdispmoveparB',\n",
       " 'MdispmoveparC',\n",
       " 'Mdispmovethresh',\n",
       " 'offno',\n",
       " 'Femalepercent',\n",
       " 'EqualsexratioBirth',\n",
       " 'TwinningPercent',\n",
       " 'popModel',\n",
       " 'r',\n",
       " 'K_env',\n",
       " 'subpopmortperc',\n",
       " 'muterate',\n",
       " 'mutationtype',\n",
       " 'loci',\n",
       " 'intgenesans',\n",
       " 'allefreqfilename',\n",
       " 'alleles',\n",
       " 'mtdna',\n",
       " 'startGenes',\n",
       " 'cdevolveans',\n",
       " 'startSelection',\n",
       " 'betaFile_selection',\n",
       " 'epistasis',\n",
       " 'epigeneans',\n",
       " 'startEpigene',\n",
       " 'betaFile_epigene',\n",
       " 'cdinfect',\n",
       " 'transmissionprob']"
      ]
     },
     "execution_count": 50,
     "metadata": {},
     "output_type": "execute_result"
    }
   ],
   "source": [
    "# If you made changes to the spreadsheet, create an updated data frame and save\n",
    "paramsdf = to_dataframe(paramsheet)\n",
    "list(paramsdf)"
   ]
  },
  {
   "cell_type": "code",
   "execution_count": 8,
   "id": "9da966f4-08e4-4bdd-b2e4-3c350cfb39db",
   "metadata": {},
   "outputs": [],
   "source": [
    "# Write to file.\n",
    "#paramsdf.to_csv(r\"C:\\Users\\pj276\\Projects\\CDPOP\\data\\inputvars_updated.csv\", index=False)"
   ]
  },
  {
   "cell_type": "code",
   "execution_count": 51,
   "id": "1b1e8a47-b71c-487d-9bd0-951af45331b6",
   "metadata": {},
   "outputs": [
    {
     "data": {
      "text/plain": [
       "'C:\\\\Users\\\\pj276\\\\Projects\\\\CDPOP\\\\src'"
      ]
     },
     "execution_count": 51,
     "metadata": {},
     "output_type": "execute_result"
    }
   ],
   "source": [
    "# Check directory\n",
    "%pwd"
   ]
  },
  {
   "cell_type": "code",
   "execution_count": 44,
   "id": "4b154974-dfc6-4d61-b3b3-17fabbcd1ba0",
   "metadata": {},
   "outputs": [
    {
     "name": "stdout",
     "output_type": "stream",
     "text": [
      "C:\\Users\\pj276\\Projects\\CDPOP\\src\n"
     ]
    },
    {
     "data": {
      "text/plain": [
       "'C:\\\\Users\\\\pj276\\\\Projects\\\\CDPOP\\\\src'"
      ]
     },
     "execution_count": 44,
     "metadata": {},
     "output_type": "execute_result"
    }
   ],
   "source": [
    "# Change to directory holding CDPOP scripts\n",
    "%cd C:\\Users\\pj276\\Projects\\CDPOP\\src\n",
    "%pwd"
   ]
  },
  {
   "cell_type": "code",
   "execution_count": null,
   "id": "14eeb5a4-6e75-4d88-b1d3-43111c29d947",
   "metadata": {},
   "outputs": [],
   "source": [
    "# Input files\n",
    "# Parameter file\n",
    "# inputvars.csv\n",
    "\n",
    "# In parameter file\n",
    "# xyfilename -- xyfiles/xyED16_known_NAs, xyfiles/xyED16_hetmort, xyfiles/xyED16\n",
    "# agefilename -- agevars/Agevars_nonOverlap.csv, agevars/Agevars_nonOverlap.csv, agevars/Agevars_nonOverlap.csv\n",
    "# matecdmat -- cdmats/EDcdmatrix16, cdmats/EDcdmatrix16, cdmats/EDcdmatrix16\n",
    "# dispcdmat -- cdmats/EDcdmatrix16, cdmats/EDcdmatrix16, cdmats/EDcdmatrix16\n",
    "# allefreqfilename -- genefiles/allelefrequencyA, N, genefiles/allelefrequencyC_varAlleles\n"
   ]
  },
  {
   "cell_type": "code",
   "execution_count": 53,
   "id": "037fe443-ba71-4339-aeab-3154482b4fad",
   "metadata": {},
   "outputs": [
    {
     "name": "stdout",
     "output_type": "stream",
     "text": [
      "DoUserInput():  0:00:00 \n",
      "DoPreProcess():  0:00:00.004986 \n",
      "DoCDClimate():  0:00:00 \n",
      "GetMetrics():  0:00:00.000998 \n",
      "DoMate():  0:00:00.002024 \n",
      "DoOffspring():  0:00:00 \n",
      "InheritGenes():  0:00:00.004987 \n",
      "DoAdultMortality():  0:00:00 \n",
      "DoDisperse():  0:00:00.000996 \n",
      "DoOutput():  0:00:00.000969 \n",
      "End Generation Loop 0 :  0:00:00.009974 \n",
      "\n",
      "ReadGrid():  0:00:00 \n",
      "GetMetrics():  0:00:00.000997 \n",
      "DoMate():  0:00:00.001026 \n",
      "DoOffspring():  0:00:00 \n",
      "InheritGenes():  0:00:00.003990 \n",
      "DoAdultMortality():  0:00:00 \n",
      "DoDisperse():  0:00:00.000997 \n",
      "DoOutput():  0:00:00.001965 \n",
      "End Generation Loop 1 :  0:00:00.008975 \n",
      "\n",
      "ReadGrid():  0:00:00 \n",
      "GetMetrics():  0:00:00 \n",
      "DoMate():  0:00:00.002025 \n",
      "DoOffspring():  0:00:00 \n",
      "InheritGenes():  0:00:00.003989 \n",
      "DoAdultMortality():  0:00:00.000999 \n",
      "DoDisperse():  0:00:00 \n",
      "DoOutput():  0:00:00.001964 \n",
      "End Generation Loop 2 :  0:00:00.008977 \n",
      "\n",
      "ReadGrid():  0:00:00 \n",
      "GetMetrics():  0:00:00 \n",
      "DoMate():  0:00:00.002030 \n",
      "DoOffspring():  0:00:00 \n",
      "InheritGenes():  0:00:00.002957 \n",
      "DoAdultMortality():  0:00:00.000997 \n",
      "DoDisperse():  0:00:00 \n",
      "DoOutput():  0:00:00.001994 \n",
      "End Generation Loop 3 :  0:00:00.007978 \n",
      "\n",
      "ReadGrid():  0:00:00 \n",
      "GetMetrics():  0:00:00.000998 \n",
      "DoMate():  0:00:00.001994 \n",
      "DoOffspring():  0:00:00 \n",
      "InheritGenes():  0:00:00.002992 \n",
      "DoAdultMortality():  0:00:00.000997 \n",
      "DoDisperse():  0:00:00 \n",
      "DoOutput():  0:00:00.000998 \n",
      "End Generation Loop 4 :  0:00:00.007979 \n",
      "\n",
      "DoPostProcess():  0:00:00.000997 \n",
      "End Monte Carlo Loop 0 :  0:00:00.049866 \n",
      "\n",
      "End Batch Loop 0 :  0:00:00.049866 \n",
      "\n",
      "Total CDPOP Simulation Time:  0:00:00.051832 \n"
     ]
    }
   ],
   "source": [
    "# Run test\n",
    "#%run CDPOP C:\\Users\\pj276\\Projects\\CDPOP\\data inputvars.csv output_test\n",
    "%run CDPOP {idd} inputvars.csv output_test2\n"
   ]
  },
  {
   "cell_type": "code",
   "execution_count": null,
   "id": "d41d0670-2fc6-4eb0-9cda-9ab956d1081a",
   "metadata": {},
   "outputs": [],
   "source": [
    "# Notes\n",
    "# If you specify a full path for the output directory, it will throw an error\n",
    "# OSError: [WinError 123] The filename, directory name, or volume label syntax is incorrect: 'C:\\\\Users\\\\pj276\\\\Projects\\\\CDPOP\\\\data/C:\\\\Users\\\\pj276\\\\Projects\\\\CDPOP\\\\output_test1678386843/'\n"
   ]
  },
  {
   "cell_type": "code",
   "execution_count": null,
   "id": "740dc4cb-cdfd-4b67-8ff9-0e07b5385c73",
   "metadata": {},
   "outputs": [],
   "source": [
    "# Run UNICOR? \n",
    "# If yes\n",
    "# Find output folder\n",
    "# List XY files\n",
    "# Calculate resistant kernels for each XY\n"
   ]
  },
  {
   "cell_type": "code",
   "execution_count": 17,
   "id": "ff71605e-f78f-4648-8be3-7bd03efe156e",
   "metadata": {},
   "outputs": [
    {
     "data": {
      "application/vnd.jupyter.widget-view+json": {
       "model_id": "d24825eba93a443093301f160d628f10",
       "version_major": 2,
       "version_minor": 0
      },
      "text/plain": [
       "Sheet(cells=(Cell(column_start=0, row_end=0, row_start=0, squeeze_column=False, type='numeric', value=[1, 2, 3…"
      ]
     },
     "execution_count": 17,
     "metadata": {},
     "output_type": "execute_result"
    }
   ],
   "source": [
    "# ipysheet testing\n",
    "from ipysheet import sheet, row\n",
    "s1 = sheet()\n",
    "row(0, [1, 2, 3, 34, 5])                    # The Cell type will be 'numeric'\n",
    "row(1, [True, False, True], column_start=2) # The Cell type will be 'checkbox'\n",
    "s1"
   ]
  },
  {
   "cell_type": "code",
   "execution_count": null,
   "id": "9f6e2b30-1f1c-46fc-a00b-5b743a4963e0",
   "metadata": {},
   "outputs": [],
   "source": []
  }
 ],
 "metadata": {
  "kernelspec": {
   "display_name": "Python [conda env:cdujlab] *",
   "language": "python",
   "name": "conda-env-cdujlab-py"
  },
  "language_info": {
   "codemirror_mode": {
    "name": "ipython",
    "version": 3
   },
   "file_extension": ".py",
   "mimetype": "text/x-python",
   "name": "python",
   "nbconvert_exporter": "python",
   "pygments_lexer": "ipython3",
   "version": "3.10.9"
  }
 },
 "nbformat": 4,
 "nbformat_minor": 5
}
