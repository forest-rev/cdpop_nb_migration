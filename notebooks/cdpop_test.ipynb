{
 "cells": [
  {
   "cell_type": "markdown",
   "id": "f5c33943-fa7f-45a0-97b7-08b5d042382d",
   "metadata": {},
   "source": [
    "# CDPOP to Notebook Migration"
   ]
  },
  {
   "cell_type": "markdown",
   "id": "24dddf7d-5917-4aeb-9785-fcfc7e139120",
   "metadata": {},
   "source": [
    "#### Author: Patrick Jantz\n",
    "#### Date: March 9, 2023\n",
    "#### Contact: Patrick.Jantz@nau.edu\n",
    "#### Purpose:\n",
    "CDPOP currently runs from the command line. <br>\n",
    "Running CDPOP from a python notebook facilitates interactive analysis and lay the groundwork for development of a web application for non-technical users. <br>\n",
    "This script is for testing different approaches for migrating CDPOP to a python notebook and adding desired functionality.\n",
    "\n",
    "#### Notes:\n",
    "Clone CDPOP using Git bash shell or GUI (shell commands below) <br>\n",
    "git clone https://github.com/ComputationalEcologyLab/CDPOP.git <br>\n",
    "Set up an empty repo in Git. e.g. cdpop_nb_migration <br>\n",
    "Change the remote to the repo you just set up <br>\n",
    "git remote add origin https://github.com/forest-rev/cdpop_nb_migration.git <br>\n",
    "git branch -M main <br>\n",
    "git push -u origin main <br>\n",
    "\n",
    "If you specify a full path for the output directory, it will throw an error. <br>\n",
    "OSError: [WinError 123] The filename, directory name, or volume label syntax is incorrect:<br>'C:\\\\Users\\\\pj276\\\\Projects\\\\CDPOP\\\\data/C:\\\\Users\\\\pj276\\\\Projects\\\\CDPOP\\\\output_test1678386843/'\n"
   ]
  },
  {
   "cell_type": "code",
   "execution_count": 1,
   "id": "e4d980cf-955a-4994-bbad-c9afc8bfd72d",
   "metadata": {},
   "outputs": [],
   "source": [
    "# Imports\n",
    "import pandas as pd\n",
    "import ipywidgets as widgets\n",
    "import ipysheet\n",
    "from ipysheet import from_dataframe, to_dataframe\n",
    "from pathlib import Path\n"
   ]
  },
  {
   "cell_type": "code",
   "execution_count": 2,
   "id": "fbe10344-6c32-4cd1-b580-e9a980adf41d",
   "metadata": {},
   "outputs": [
    {
     "name": "stdout",
     "output_type": "stream",
     "text": [
      "Type or paste CDPOP data directory in the box below, then hit Enter.\n",
      "Spaces in path are not allowed.\n",
      "Do not enclose directory path in quotes.\n",
      "E.g. C:/Users/pj276/cdpop_jupyter_migration/cdpop_test_runs/r1/CDPOP/data\n"
     ]
    },
    {
     "data": {
      "application/vnd.jupyter.widget-view+json": {
       "model_id": "a3d8acca6f324f51ac625dec9f892101",
       "version_major": 2,
       "version_minor": 0
      },
      "text/plain": [
       "Text(value='', description='CDPOP data directory', layout=Layout(border_bottom='3px solid blue', border_left='…"
      ]
     },
     "execution_count": 2,
     "metadata": {},
     "output_type": "execute_result"
    }
   ],
   "source": [
    "print('Type or paste CDPOP data directory in the box below, then hit Enter.')\n",
    "print('Spaces in path are not allowed.')\n",
    "print('Do not enclose directory path in quotes.')\n",
    "print('E.g. C:/Users/pj276/cdpop_jupyter_migration/cdpop_test_runs/r1/CDPOP/data')\n",
    "style = {'description_width': 'initial'}\n",
    "inDirBox = widgets.Text(description='CDPOP data directory',\n",
    "                        style=style,\n",
    "                        layout = widgets.Layout(width='800px', border='3px solid blue'))\n",
    "inDirBox"
   ]
  },
  {
   "cell_type": "code",
   "execution_count": 3,
   "id": "990032b0-9e2d-419b-8d1c-46f5fadae34c",
   "metadata": {},
   "outputs": [
    {
     "name": "stdout",
     "output_type": "stream",
     "text": [
      "Input data directory is set to: \n",
      "C:/Users/pj276/cdpop_jupyter_migration/cdpop_test_runs/r1/CDPOP/data\n"
     ]
    }
   ],
   "source": [
    "idd = inDirBox.value\n",
    "print('Input data directory is set to: \\n' + idd)"
   ]
  },
  {
   "cell_type": "code",
   "execution_count": 4,
   "id": "ff18b87d-1ef7-4cbb-a340-c2f1e09c3fad",
   "metadata": {},
   "outputs": [
    {
     "name": "stdout",
     "output_type": "stream",
     "text": [
      "Type or paste path to parameter file in the box below.\n",
      "Spaces are not allowed.\n",
      "Do not enclose path in quotes.\n",
      "E.g. C:/Users/pj276/cdpop_jupyter_migration/cdpop_test_runs/r1/CDPOP/data/inputvars.csv\n"
     ]
    },
    {
     "data": {
      "application/vnd.jupyter.widget-view+json": {
       "model_id": "9dfb5a440b17487683e9a584cd189298",
       "version_major": 2,
       "version_minor": 0
      },
      "text/plain": [
       "Text(value='', description='Input parameter file', layout=Layout(border_bottom='3px solid blue', border_left='…"
      ]
     },
     "execution_count": 4,
     "metadata": {},
     "output_type": "execute_result"
    }
   ],
   "source": [
    "print('Type or paste path to parameter file in the box below.')\n",
    "print('Spaces are not allowed.')\n",
    "print('Do not enclose path in quotes.')\n",
    "print('E.g. C:/Users/pj276/cdpop_jupyter_migration/cdpop_test_runs/r1/CDPOP/data/inputvars.csv')\n",
    "style = {'description_width': 'initial'}\n",
    "inParamsBox = widgets.Text(description='Input parameter file',\n",
    "                        style=style,\n",
    "                        layout = widgets.Layout(width='800px', border='3px solid blue'))\n",
    "inParamsBox"
   ]
  },
  {
   "cell_type": "code",
   "execution_count": 5,
   "id": "0811c920-5a96-49bf-9e04-bc94ddf5312c",
   "metadata": {},
   "outputs": [
    {
     "name": "stdout",
     "output_type": "stream",
     "text": [
      "Input parameter file is set to: \n",
      "C:/Users/pj276/cdpop_jupyter_migration/cdpop_test_runs/r1/CDPOP/data/inputvars.csv\n"
     ]
    }
   ],
   "source": [
    "print('Input parameter file is set to: \\n' + inParamsBox.value)"
   ]
  },
  {
   "cell_type": "code",
   "execution_count": 6,
   "id": "89dbc098-5a52-4b67-b59a-d72f552caae5",
   "metadata": {},
   "outputs": [],
   "source": [
    "paramPath = Path(inParamsBox.value)\n",
    "# Read in csv containing parameters\n",
    "params = pd.read_csv(paramPath)\n",
    "#params = pd.read_csv(r\"C:\\Users\\pj276\\cdpop_jupyter_migration\\cdpop_test_runs\\r1\\CDPOP\\data\\inputvars.csv\")"
   ]
  },
  {
   "cell_type": "code",
   "execution_count": 7,
   "id": "b7c56c0a-4921-4cb3-a482-faa797e5ec9f",
   "metadata": {},
   "outputs": [
    {
     "data": {
      "application/vnd.jupyter.widget-view+json": {
       "model_id": "87c212219e5d4ab083ac8af1f0d7583f",
       "version_major": 2,
       "version_minor": 0
      },
      "text/plain": [
       "VBox(children=(HBox(children=(Button(description='Add Row', style=ButtonStyle()), Button(description='Add Colu…"
      ]
     },
     "metadata": {},
     "output_type": "display_data"
    }
   ],
   "source": [
    "# Convert to sheet\n",
    "paramsheet = from_dataframe(params)\n",
    "\n",
    "# Widgets for adding rows and columns \n",
    "row_button = widgets.Button(description='Add Row')\n",
    "column_button = widgets.Button(description='Add Column')\n",
    "out = widgets.Output()\n",
    "\n",
    "def add_row(_):\n",
    "    paramsheet.rows += 1\n",
    "    for col in paramsheet.cells: # this assumes that each cell is a column, this might break otherwise\n",
    "        col.row_end +=1\n",
    "        col = np.append(col,[None]) # Change None to whatever default value you want\n",
    "def add_column(_):\n",
    "    paramsheet.columns +=1 # Need to increment index first to avoid a ValueError\n",
    "    ipysheet.column(paramsheet.columns-1,[None]*paramsheet.rows) \n",
    "            \n",
    "row_button.on_click(add_row)\n",
    "column_button.on_click(add_column)\n",
    "\n",
    "display(widgets.VBox([widgets.HBox([row_button,column_button]),paramsheet]))\n",
    "# To edit values in a cell, double click in the cell of interest and change as needed.\n",
    "# If you want to copy and paste values, highlight the cells you want to copy, hit CTRL-C\n",
    "# Highlight the cell where you want to copy, hit CTRL-V\n",
    "# *Note, if you rerun this cell, it will revert back to the csv on file."
   ]
  },
  {
   "cell_type": "code",
   "execution_count": 22,
   "id": "6c79d49b-56b3-44c6-90f6-0e410860dbda",
   "metadata": {},
   "outputs": [],
   "source": [
    "#list(params)"
   ]
  },
  {
   "cell_type": "code",
   "execution_count": 74,
   "id": "9da966f4-08e4-4bdd-b2e4-3c350cfb39db",
   "metadata": {},
   "outputs": [],
   "source": [
    "# If you made changes to the spreadsheet, create an updated data frame and save\n",
    "#paramsdf = to_dataframe(paramsheet)\n",
    "# Write to file.\n",
    "#paramsdf.to_csv(r\"C:\\Users\\pj276\\Projects\\CDPOP\\data\\inputvars_updated.csv\", index=False)"
   ]
  },
  {
   "cell_type": "code",
   "execution_count": 143,
   "id": "1b1e8a47-b71c-487d-9bd0-951af45331b6",
   "metadata": {},
   "outputs": [
    {
     "name": "stdout",
     "output_type": "stream",
     "text": [
      "Current directory is:\n"
     ]
    },
    {
     "data": {
      "text/plain": [
       "'C:\\\\Users\\\\pj276\\\\Projects\\\\CDPOP\\\\src'"
      ]
     },
     "execution_count": 143,
     "metadata": {},
     "output_type": "execute_result"
    }
   ],
   "source": [
    "# Check directory\n",
    "print('Current directory is:')\n",
    "%pwd"
   ]
  },
  {
   "cell_type": "code",
   "execution_count": 23,
   "id": "532247fe-3987-4044-aa54-cfacb048cc84",
   "metadata": {},
   "outputs": [
    {
     "name": "stdout",
     "output_type": "stream",
     "text": [
      "Type or paste path to CDPOP source code.\n",
      "Spaces are not allowed.\n",
      "Do not enclose path in quotes.\n",
      "E.g. C:/Users/pj276/Projects/CDPOP/src\n"
     ]
    },
    {
     "data": {
      "application/vnd.jupyter.widget-view+json": {
       "model_id": "105538722a1d47d88c99ee01fb7a0e15",
       "version_major": 2,
       "version_minor": 0
      },
      "text/plain": [
       "Text(value='', description='Path to CDPOP source code', layout=Layout(border_bottom='3px solid blue', border_l…"
      ]
     },
     "execution_count": 23,
     "metadata": {},
     "output_type": "execute_result"
    }
   ],
   "source": [
    "print('Type or paste path to CDPOP source code.')\n",
    "print('Spaces are not allowed.')\n",
    "print('Do not enclose path in quotes.')\n",
    "print('E.g. C:/Users/pj276/Projects/CDPOP/src')\n",
    "style = {'description_width': 'initial'}\n",
    "inSourceBox = widgets.Text(description='Path to CDPOP source code',\n",
    "                        style=style,\n",
    "                        layout = widgets.Layout(width='800px', border='3px solid blue'))\n",
    "inSourceBox"
   ]
  },
  {
   "cell_type": "code",
   "execution_count": 39,
   "id": "4b154974-dfc6-4d61-b3b3-17fabbcd1ba0",
   "metadata": {},
   "outputs": [
    {
     "name": "stdout",
     "output_type": "stream",
     "text": [
      "Current directory is:\n",
      "C:\\Users\\pj276\\Projects\\CDPOP\\src\n"
     ]
    }
   ],
   "source": [
    "# Change to directory holding CDPOP scripts\n",
    "srcPath = inSourceBox.value\n",
    "print('Current directory is:')\n",
    "%cd {srcPath}"
   ]
  },
  {
   "cell_type": "code",
   "execution_count": 40,
   "id": "1d60f5da-5f80-4bb3-8fe1-3a5065301cb3",
   "metadata": {},
   "outputs": [
    {
     "name": "stdout",
     "output_type": "stream",
     "text": [
      "Type or paste base of output directory name.\n",
      "Spaces are not allowed.\n",
      "Do not enclose name in quotes.\n",
      "E.g. cdpop_scenario1_\n",
      "A unique ID will be appended to the base directory name upon completion\n"
     ]
    },
    {
     "data": {
      "application/vnd.jupyter.widget-view+json": {
       "model_id": "a029cde2bba84b9b85aeb864d88fa99e",
       "version_major": 2,
       "version_minor": 0
      },
      "text/plain": [
       "Text(value='', description='Output directory name', layout=Layout(border_bottom='3px solid blue', border_left=…"
      ]
     },
     "execution_count": 40,
     "metadata": {},
     "output_type": "execute_result"
    }
   ],
   "source": [
    "print('Type or paste base of output directory name.')\n",
    "print('Spaces are not allowed.')\n",
    "print('Do not enclose name in quotes.')\n",
    "print('E.g. cdpop_scenario1_')\n",
    "print('A unique ID will be appended to the base directory name upon completion')\n",
    "style = {'description_width': 'initial'}\n",
    "baseNameBox = widgets.Text(description='Output directory name',\n",
    "                        style=style,\n",
    "                        layout = widgets.Layout(width='800px', border='3px solid blue'))\n",
    "baseNameBox"
   ]
  },
  {
   "cell_type": "code",
   "execution_count": 41,
   "id": "037fe443-ba71-4339-aeab-3154482b4fad",
   "metadata": {},
   "outputs": [
    {
     "name": "stdout",
     "output_type": "stream",
     "text": [
      "DoUserInput():  0:00:00.005000 \n",
      "DoPreProcess():  0:00:00.013031 \n",
      "DoCDClimate():  0:00:00.005009 \n",
      "GetMetrics():  0:00:00 \n",
      "DoMate():  0:00:00 \n",
      "DoOffspring():  0:00:00 \n",
      "InheritGenes():  0:00:00 \n",
      "DoAdultMortality():  0:00:00 \n",
      "DoDisperse():  0:00:00.014037 \n",
      "DoOutput():  0:00:00.001260 \n",
      "End Generation Loop 0 :  0:00:00.020306 \n",
      "\n",
      "ReadGrid():  0:00:00 \n",
      "GetMetrics():  0:00:00 \n",
      "DoMate():  0:00:00.001998 \n",
      "DoOffspring():  0:00:00 \n",
      "InheritGenes():  0:00:00.003000 \n",
      "DoAdultMortality():  0:00:00.001000 \n",
      "DoDisperse():  0:00:00 \n",
      "DoOutput():  0:00:00.002000 \n",
      "End Generation Loop 1 :  0:00:00.007998 \n",
      "\n",
      "ReadGrid():  0:00:00 \n",
      "GetMetrics():  0:00:00 \n",
      "DoMate():  0:00:00.002031 \n",
      "DoOffspring():  0:00:00 \n",
      "InheritGenes():  0:00:00.002973 \n",
      "DoAdultMortality():  0:00:00.000999 \n",
      "DoDisperse():  0:00:00 \n",
      "DoOutput():  0:00:00.001998 \n",
      "End Generation Loop 2 :  0:00:00.008001 \n",
      "\n",
      "ReadGrid():  0:00:00 \n",
      "GetMetrics():  0:00:00 \n",
      "DoMate():  0:00:00.002000 \n",
      "DoOffspring():  0:00:00.001003 \n",
      "InheritGenes():  0:00:00.002999 \n",
      "DoAdultMortality():  0:00:00.001000 \n",
      "DoDisperse():  0:00:00.001000 \n",
      "DoOutput():  0:00:00.000999 \n",
      "End Generation Loop 3 :  0:00:00.009001 \n",
      "\n",
      "ReadGrid():  0:00:00 \n",
      "GetMetrics():  0:00:00.001000 \n",
      "DoMate():  0:00:00.001030 \n",
      "DoOffspring():  0:00:00.001000 \n",
      "InheritGenes():  0:00:00.002999 \n",
      "DoAdultMortality():  0:00:00.001117 \n",
      "DoDisperse():  0:00:00 \n",
      "DoOutput():  0:00:00 \n",
      "End Generation Loop 4 :  0:00:00.007146 \n",
      "\n",
      "DoPostProcess():  0:00:00 \n",
      "End Monte Carlo Loop 0 :  0:00:00.065483 \n",
      "\n",
      "End Batch Loop 0 :  0:00:00.065483 \n",
      "\n",
      "Total CDPOP Simulation Time:  0:00:00.071459 \n"
     ]
    }
   ],
   "source": [
    "# Run test\n",
    "# Can add a button here like \"Run CDPOP?\"\n",
    "#%run CDPOP C:\\Users\\pj276\\Projects\\CDPOP\\data inputvars.csv output_test\n",
    "#%run CDPOP {idd} inputvars.csv output_test2\n",
    "#%run CDPOP {idd} {paramPath.name} {baseNameBox.value}\n",
    "!python CDPOP.py {idd} {paramPath.name} {baseNameBox.value}"
   ]
  },
  {
   "cell_type": "code",
   "execution_count": null,
   "id": "d41d0670-2fc6-4eb0-9cda-9ab956d1081a",
   "metadata": {},
   "outputs": [],
   "source": [
    "# Notes\n",
    "# If you specify a full path for the output directory, it will throw an error\n",
    "# OSError: [WinError 123] The filename, directory name, or volume label syntax is incorrect: 'C:\\\\Users\\\\pj276\\\\Projects\\\\CDPOP\\\\data/C:\\\\Users\\\\pj276\\\\Projects\\\\CDPOP\\\\output_test1678386843/'\n"
   ]
  },
  {
   "cell_type": "markdown",
   "id": "39cb25b6-97d7-4f03-af63-a5368969d0ea",
   "metadata": {},
   "source": [
    "#### UNICOR"
   ]
  },
  {
   "cell_type": "code",
   "execution_count": 49,
   "id": "740dc4cb-cdfd-4b67-8ff9-0e07b5385c73",
   "metadata": {},
   "outputs": [
    {
     "name": "stdout",
     "output_type": "stream",
     "text": [
      "[WindowsPath('C:/Users/pj276/cdpop_jupyter_migration/cdpop_test_runs/r1/CDPOP/data/cdpop_scenario8_1682982167/batchrun0mcrun0/XY0.csv'), WindowsPath('C:/Users/pj276/cdpop_jupyter_migration/cdpop_test_runs/r1/CDPOP/data/cdpop_scenario8_1682982167/batchrun0mcrun0/XY1.csv'), WindowsPath('C:/Users/pj276/cdpop_jupyter_migration/cdpop_test_runs/r1/CDPOP/data/cdpop_scenario8_1682982167/batchrun0mcrun0/XY2.csv'), WindowsPath('C:/Users/pj276/cdpop_jupyter_migration/cdpop_test_runs/r1/CDPOP/data/cdpop_scenario8_1682982167/batchrun0mcrun0/XY3.csv'), WindowsPath('C:/Users/pj276/cdpop_jupyter_migration/cdpop_test_runs/r1/CDPOP/data/cdpop_scenario8_1682982167/batchrun0mcrun0/XY4.csv'), WindowsPath('C:/Users/pj276/cdpop_jupyter_migration/cdpop_test_runs/r1/CDPOP/data/cdpop_scenario8_1682982167/batchrun0mcrun0/XY5.csv')]\n"
     ]
    }
   ],
   "source": [
    "# List xy files from CDPOP output\n",
    "uniXY = Path(idd)\n",
    "uniPath = Path(list(uniXY.glob(baseNameBox.value + '*'))[0])\n",
    "fList = list(uniPath.glob('**/*'))\n",
    "xyFiles = [i for i in fList if 'XY' in str(i)]\n",
    "print(xyFiles)\n",
    "# Run UNICOR? \n",
    "# If yes\n",
    "# Find output folder\n",
    "# List XY files\n",
    "# Calculate resistant kernels for each XY"
   ]
  },
  {
   "cell_type": "code",
   "execution_count": null,
   "id": "ee69ca7b-244c-4a3e-9b61-928ed47e5958",
   "metadata": {},
   "outputs": [],
   "source": [
    "# Create .rip file (UNICOR input format) from user inputs\n",
    "sessionlabel = '' # 'Session_label'  e.g. resistant_kernel\n",
    "gridfile = '' # 'Grid_Filename'\n",
    "xyfilename = '' # 'XY_Filename'\n",
    "resans = '' # 'Use_Resistance'\n",
    "directionans = '' # 'Use_Direction'\n",
    "dirtype = '' # 'Type_Direction'\n",
    "barrfile = '' # 'Barrier_or_U_Filename'\n",
    "elevfile = '' # 'Direction_or_V_Filename'\n",
    "minmaxres = '' # 'Speed_To_Resistance_Scale'\n",
    "EDthresholdans = '' # 'Use_ED_threshold'\n",
    "nbhd_dist =  # float 'ED_Distance'\n",
    "edge_dist =  # float 'Edge_Distance'\n",
    "edge_type = '' # 'Edge_Type'\n",
    "num_of_pro =  # int 'Number_of_Processes'\n",
    "outputPathadd = # 'Save_Path_Output'\n",
    "outputPaths = # 'Save_IndividualPaths_Output'\n",
    "outputGraphMetrics = '' #'Save_GraphMetrics_Output'\n",
    "KernelFunction = '' #'KDE_Function'\n",
    "BufferGridSize = '' #'KDE_GridSize'\n",
    "outputBuffer = '' # 'Save_KDE_Output'\n",
    "LevelNumber =  # int 'Number_of_Categories'\n",
    "outputLevels = '' # 'Save_Category_Output'\n",
    "CDmatrixans = '' # 'Save_CDmatrix_Output'\n",
    "transform_func = '' # 'Transform_function'\n",
    "const_kernal_vol = '' # 'Const_kernal_vol'\n",
    "vol_constant =  # int 'Kernel_volume'\n"
   ]
  },
  {
   "cell_type": "code",
   "execution_count": 69,
   "id": "1161e2e1-e2f8-47e1-b569-68a548afa685",
   "metadata": {},
   "outputs": [],
   "source": [
    "# Directory to save .rip file\n",
    "uniRipPath = 'C:/Users/pj276/Projects/UNICOR/unicor'\n",
    "\n",
    "# Template for parameter file, not sure whether need to enclose brackets in quotes or not.\n",
    "ptwrite = \"\"\"Session_label {Session_label}\n",
    "Grid_Filename {Grid_Filename}\n",
    "XY_Filename {XY_Filename}\n",
    "Use_Direction {Use_Direction}\n",
    "Type_Direction {Type_Direction}\n",
    "Use_Resistance {Use_Resistance} \n",
    "Barrier_or_U_Filename {Barrier_or_U_Filename}\n",
    "Direction_or_V_Filename {Direction_or_V_Filename}\n",
    "Speed_To_Resistance_Scale {Speed_To_Resistance_Scale}\n",
    "Use_ED_threshold {Use_ED_threshold}\n",
    "ED_Distance {ED_Distance}\n",
    "Edge_Type {Edge_Type}\n",
    "Transform_function {Transform_function}\n",
    "Const_kernal_vol {Const_kernal_vol}\n",
    "Kernel_volume {Kernel_volume}\n",
    "Edge_Distance {Edge_Distance}\n",
    "Number_of_Processes {Number_of_Processes}\n",
    "KDE_Function {KDE_Function}\n",
    "KDE_GridSize {KDE_GridSize}\n",
    "Number_of_Categories {Number_of_Categories}\n",
    "Save_Path_Output {Save_Path_Output}\n",
    "Save_IndividualPaths_Output {Save_IndividualPaths_Output}\n",
    "Save_GraphMetrics_Output {Save_GraphMetrics_Output}\n",
    "Save_KDE_Output {Save_KDE_Output}\n",
    "Save_Category_Output {Save_Category_Output}\n",
    "Save_CDmatrix_Output {Save_CDmatrix_Output}\"\"\"\n",
    "\n",
    "v1 = 'resistant_kernel3'; v2 = 'resist_base_roads.rsg'; v3 = xyFiles[1]; v4 = 'FALSE'\n",
    "v5 = ''; v6 = 'TRUE'; v7 = ''; v8 = ''\n",
    "v9 = ''; v10 = 'FALSE'; v11 = '10000'; v12 = 'all_paths'\n",
    "v13 = 'inverse_square'; v14 = 'FALSE'; v15 = '10000'; v16 = '10000000'\n",
    "v17 = '4'; v18 = 'Gaussian'; v19 = '2'; v20 = '5'\n",
    "v21 = 'FALSE'; v22 = 'FALSE'; v23 = 'FALSE'; v24 = 'TRUE'\n",
    "v25 = 'FALSE'; v26 = 'FALSE'\n",
    "\n",
    "context = {'Session_label': v1, 'Grid_Filename': v2, 'XY_Filename': v3,\n",
    "          'Use_Direction': v4, 'Type_Direction': v5, 'Use_Resistance': v6,\n",
    "          'Barrier_or_U_Filename': v7, 'Direction_or_V_Filename': v8, 'Speed_To_Resistance_Scale': v9,\n",
    "          'Use_ED_threshold': v10, 'ED_Distance': v11, 'Edge_Type': v12,\n",
    "          'Transform_function': v13, 'Const_kernal_vol': v14, 'Kernel_volume': v15,\n",
    "          'Edge_Distance': v16, 'Number_of_Processes': v17, 'KDE_Function': v18,\n",
    "          'KDE_GridSize': v19, 'Number_of_Categories': v20, 'Save_Path_Output': v21,\n",
    "          'Save_IndividualPaths_Output': v22, 'Save_GraphMetrics_Output': v23, 'Save_KDE_Output': v24,\n",
    "          'Save_Category_Output': v25, 'Save_CDmatrix_Output': v26}\n",
    "\n",
    "# Save text file with specified inputs plugged into corresponding locations\n",
    "with open(uniRipPath + '/' + 'uniripr3.rip', 'w') as myfile:\n",
    "    myfile.write(ptwrite.format(**context))"
   ]
  },
  {
   "cell_type": "code",
   "execution_count": 70,
   "id": "79b98c03-c2c8-4ba1-9c1b-37aa322304b6",
   "metadata": {},
   "outputs": [
    {
     "name": "stdout",
     "output_type": "stream",
     "text": [
      "Type or paste path to UNICOR parameter file (.rip)\n",
      "Spaces are not allowed.\n",
      "Do not enclose path in quotes.\n",
      "E.g. \n",
      "C:/Users/pj276/Projects/UNICOR/unicor/uniripr1.rip\n"
     ]
    },
    {
     "data": {
      "application/vnd.jupyter.widget-view+json": {
       "model_id": "79f8355106ca4e87acf87fb39ff73612",
       "version_major": 2,
       "version_minor": 0
      },
      "text/plain": [
       "Text(value='', description='Path to UNICOR parameter file', layout=Layout(border_bottom='3px solid blue', bord…"
      ]
     },
     "execution_count": 70,
     "metadata": {},
     "output_type": "execute_result"
    }
   ],
   "source": [
    "# UNICOR param file\n",
    "print('Type or paste path to UNICOR parameter file (.rip)')\n",
    "print('Spaces are not allowed.')\n",
    "print('Do not enclose path in quotes.')\n",
    "print('E.g. ')\n",
    "print(uniRipPath + '/' + 'uniripr1.rip')\n",
    "style = {'description_width': 'initial'}\n",
    "unicorParamBox = widgets.Text(description='Path to UNICOR parameter file',\n",
    "                        style=style,\n",
    "                        layout = widgets.Layout(width='800px', border='3px solid blue'))\n",
    "unicorParamBox"
   ]
  },
  {
   "cell_type": "code",
   "execution_count": 63,
   "id": "125338b0-6631-490d-b87e-c4dee79fba2d",
   "metadata": {},
   "outputs": [
    {
     "name": "stdout",
     "output_type": "stream",
     "text": [
      "Type or paste path to UNICOR source code.\n",
      "Spaces are not allowed.\n",
      "Do not enclose path in quotes.\n",
      "E.g. C:/Users/pj276/Projects/UNICOR/unicor\n"
     ]
    },
    {
     "data": {
      "application/vnd.jupyter.widget-view+json": {
       "model_id": "825e45196f1f4bdea22a7a2cef5f06ba",
       "version_major": 2,
       "version_minor": 0
      },
      "text/plain": [
       "Text(value='', description='Path to UNICOR source code', layout=Layout(border_bottom='3px solid blue', border_…"
      ]
     },
     "execution_count": 63,
     "metadata": {},
     "output_type": "execute_result"
    }
   ],
   "source": [
    "# Switch to UNICOR dir\n",
    "print('Type or paste path to UNICOR source code.')\n",
    "print('Spaces are not allowed.')\n",
    "print('Do not enclose path in quotes.')\n",
    "print('E.g. C:/Users/pj276/Projects/UNICOR/unicor')\n",
    "style = {'description_width': 'initial'}\n",
    "unicorSourceBox = widgets.Text(description='Path to UNICOR source code',\n",
    "                        style=style,\n",
    "                        layout = widgets.Layout(width='800px', border='3px solid blue'))\n",
    "unicorSourceBox"
   ]
  },
  {
   "cell_type": "code",
   "execution_count": 64,
   "id": "3467cd8f-e645-4a56-b697-94cf39255bec",
   "metadata": {},
   "outputs": [
    {
     "name": "stdout",
     "output_type": "stream",
     "text": [
      "Current directory is:\n",
      "C:\\Users\\pj276\\Projects\\UNICOR\\unicor\n"
     ]
    }
   ],
   "source": [
    "srcPath = unicorSourceBox.value\n",
    "print('Current directory is:')\n",
    "%cd {srcPath}"
   ]
  },
  {
   "cell_type": "code",
   "execution_count": 71,
   "id": "f993c017-2389-4a6b-b1e3-6db65b15e0d3",
   "metadata": {},
   "outputs": [
    {
     "name": "stdout",
     "output_type": "stream",
     "text": [
      "\n",
      "UNICOR Release 2022-01-17T09:00:00MDT Version 3.0.00\n",
      "\n",
      "Author(s): E.L. Landguth, et al.\n",
      "\n",
      "Session runtime inputs from: (C:/Users/pj276/Projects/UNICOR/unicor/uniripr3.rip)\n",
      "\n",
      "\n",
      "Log output directed to     : (resistant_kernel3.log)\n",
      "Warning: There are overlapping points around x = -626693.3253101001 y = 2190140.4949304.\n",
      "Total UNICOR program run-time: 0:00:09.000129\n"
     ]
    },
    {
     "name": "stderr",
     "output_type": "stream",
     "text": [
      "C:\\Users\\pj276\\Projects\\UNICOR\\unicor\\UNICORFun.py:4550: RuntimeWarning: divide by zero encountered in remainder\n",
      "  if np.mod(i,round(len(srclist)/10.)) == 0.0:\n"
     ]
    }
   ],
   "source": [
    "# Run UNICOR\n",
    "!python UNICOR.py {unicorParamBox.value}"
   ]
  },
  {
   "cell_type": "markdown",
   "id": "fca6d6d9-20e2-44d9-8eb6-73b0611993f5",
   "metadata": {},
   "source": [
    "##### OVERFLOW"
   ]
  },
  {
   "cell_type": "code",
   "execution_count": 68,
   "id": "c69dd9a8-764b-41a9-bdae-3f60dc4c4976",
   "metadata": {},
   "outputs": [
    {
     "data": {
      "text/plain": [
       "True"
      ]
     },
     "execution_count": 68,
     "metadata": {},
     "output_type": "execute_result"
    }
   ],
   "source": [
    "ifn = \"C:/Users/pj276/cdpop_jupyter_migration/unicor_test_runs/r1/resist_base_roads.rsg\"\n",
    "ifn.split('/')[0]+'/'\n",
    "\n",
    "len(ifn.split('/')) > 1"
   ]
  },
  {
   "cell_type": "code",
   "execution_count": 17,
   "id": "ff71605e-f78f-4648-8be3-7bd03efe156e",
   "metadata": {},
   "outputs": [
    {
     "data": {
      "application/vnd.jupyter.widget-view+json": {
       "model_id": "d24825eba93a443093301f160d628f10",
       "version_major": 2,
       "version_minor": 0
      },
      "text/plain": [
       "Sheet(cells=(Cell(column_start=0, row_end=0, row_start=0, squeeze_column=False, type='numeric', value=[1, 2, 3…"
      ]
     },
     "execution_count": 17,
     "metadata": {},
     "output_type": "execute_result"
    }
   ],
   "source": [
    "# ipysheet testing\n",
    "from ipysheet import sheet, row\n",
    "s1 = sheet()\n",
    "row(0, [1, 2, 3, 34, 5])                    # The Cell type will be 'numeric'\n",
    "row(1, [True, False, True], column_start=2) # The Cell type will be 'checkbox'\n",
    "s1"
   ]
  },
  {
   "cell_type": "code",
   "execution_count": null,
   "id": "2ddce735-aa99-4870-842b-53a0a7076387",
   "metadata": {},
   "outputs": [],
   "source": [
    "# Remove rows. Not sure how to do this yet.\n",
    "# paramsheet.rows -=1"
   ]
  },
  {
   "cell_type": "code",
   "execution_count": null,
   "id": "9f6e2b30-1f1c-46fc-a00b-5b743a4963e0",
   "metadata": {},
   "outputs": [],
   "source": [
    "# Hack to rename new column added to end of sheet.\n",
    "# Should update dynamically above\n",
    "#paramsheet.column_headers = paramsheet.column_headers + ['output_unicor']\n",
    "#paramsheet.column_headers = paramsheet.column_headers + ['mateFrequency']\n",
    "#paramsheet.column_headers = paramsheet.column_headers + ['epistasis']"
   ]
  },
  {
   "cell_type": "code",
   "execution_count": null,
   "id": "91d2552b-efaa-477d-a619-d52e3fe04fa0",
   "metadata": {},
   "outputs": [],
   "source": [
    "# Input files\n",
    "# Parameter file\n",
    "# inputvars.csv\n",
    "\n",
    "# In parameter file\n",
    "# xyfilename -- xyfiles/xyED16_known_NAs, xyfiles/xyED16_hetmort, xyfiles/xyED16\n",
    "# agefilename -- agevars/Agevars_nonOverlap.csv, agevars/Agevars_nonOverlap.csv, agevars/Agevars_nonOverlap.csv\n",
    "# matecdmat -- cdmats/EDcdmatrix16, cdmats/EDcdmatrix16, cdmats/EDcdmatrix16\n",
    "# dispcdmat -- cdmats/EDcdmatrix16, cdmats/EDcdmatrix16, cdmats/EDcdmatrix16\n",
    "# allefreqfilename -- genefiles/allelefrequencyA, N, genefiles/allelefrequencyC_varAlleles"
   ]
  }
 ],
 "metadata": {
  "kernelspec": {
   "display_name": "Python [conda env:cdujlab] *",
   "language": "python",
   "name": "conda-env-cdujlab-py"
  },
  "language_info": {
   "codemirror_mode": {
    "name": "ipython",
    "version": 3
   },
   "file_extension": ".py",
   "mimetype": "text/x-python",
   "name": "python",
   "nbconvert_exporter": "python",
   "pygments_lexer": "ipython3",
   "version": "3.10.9"
  }
 },
 "nbformat": 4,
 "nbformat_minor": 5
}
