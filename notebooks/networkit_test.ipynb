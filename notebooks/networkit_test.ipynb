{
 "cells": [
  {
   "cell_type": "code",
   "execution_count": 1,
   "id": "a49a4305-0240-4a18-9543-0c75d8dad671",
   "metadata": {},
   "outputs": [
    {
     "data": {
      "text/html": [
       "\n",
       "\t\t\t<script type=\"text/javascript\">\n",
       "\t\t\t<!--\n",
       "\t\t\t\t\n",
       "\t\t\t{\n",
       "\t\t\t\tvar element = document.getElementById('NetworKit_script');\n",
       "\t\t\t\tif (element) {\n",
       "\t\t\t\t\telement.parentNode.removeChild(element);\n",
       "\t\t\t\t}\n",
       "\t\t\t\telement = document.createElement('script');\n",
       "\t\t\t\telement.type = 'text/javascript';\n",
       "\t\t\t\telement.innerHTML = 'function NetworKit_pageEmbed(id) { var i, j; var elements; elements = document.getElementById(id).getElementsByClassName(\"Plot\"); for (i=0; i<elements.length; i++) { elements[i].id = id + \"_Plot_\" + i; var data = elements[i].getAttribute(\"data-image\").split(\"|\"); elements[i].removeAttribute(\"data-image\"); var content = \"<div class=\\\\\"Image\\\\\" id=\\\\\"\" + elements[i].id + \"_Image\\\\\" />\"; elements[i].innerHTML = content; elements[i].setAttribute(\"data-image-index\", 0); elements[i].setAttribute(\"data-image-length\", data.length); for (j=0; j<data.length; j++) { elements[i].setAttribute(\"data-image-\" + j, data[j]); } NetworKit_plotUpdate(elements[i]); elements[i].onclick = function (e) { NetworKit_overlayShow((e.target) ? e.target : e.srcElement); } } elements = document.getElementById(id).getElementsByClassName(\"HeatCell\"); for (i=0; i<elements.length; i++) { var data = parseFloat(elements[i].getAttribute(\"data-heat\")); var color = \"#00FF00\"; if (data <= 1 && data > 0) { color = \"hsla(0, 100%, 75%, \" + (data) + \")\"; } else if (data <= 0 && data >= -1) { color = \"hsla(240, 100%, 75%, \" + (-data) + \")\"; } elements[i].style.backgroundColor = color; } elements = document.getElementById(id).getElementsByClassName(\"Details\"); for (i=0; i<elements.length; i++) { elements[i].setAttribute(\"data-title\", \"-\"); NetworKit_toggleDetails(elements[i]); elements[i].onclick = function (e) { NetworKit_toggleDetails((e.target) ? e.target : e.srcElement); } } elements = document.getElementById(id).getElementsByClassName(\"MathValue\"); for (i=elements.length-1; i>=0; i--) { value = elements[i].innerHTML.trim(); if (value === \"nan\") { elements[i].parentNode.innerHTML = \"\" } } elements = document.getElementById(id).getElementsByClassName(\"SubCategory\"); for (i=elements.length-1; i>=0; i--) { value = elements[i].innerHTML.trim(); if (value === \"\") { elements[i].parentNode.removeChild(elements[i]) } } elements = document.getElementById(id).getElementsByClassName(\"Category\"); for (i=elements.length-1; i>=0; i--) { value = elements[i].innerHTML.trim(); if (value === \"\") { elements[i].parentNode.removeChild(elements[i]) } } var isFirefox = false; try { isFirefox = typeof InstallTrigger !== \"undefined\"; } catch (e) {} if (!isFirefox) { alert(\"Currently the function\\'s output is only fully supported by Firefox.\"); } } function NetworKit_plotUpdate(source) { var index = source.getAttribute(\"data-image-index\"); var data = source.getAttribute(\"data-image-\" + index); var image = document.getElementById(source.id + \"_Image\"); image.style.backgroundImage = \"url(\" + data + \")\"; } function NetworKit_showElement(id, show) { var element = document.getElementById(id); element.style.display = (show) ? \"block\" : \"none\"; } function NetworKit_overlayShow(source) { NetworKit_overlayUpdate(source); NetworKit_showElement(\"NetworKit_Overlay\", true); } function NetworKit_overlayUpdate(source) { document.getElementById(\"NetworKit_Overlay_Title\").innerHTML = source.title; var index = source.getAttribute(\"data-image-index\"); var data = source.getAttribute(\"data-image-\" + index); var image = document.getElementById(\"NetworKit_Overlay_Image\"); image.setAttribute(\"data-id\", source.id); image.style.backgroundImage = \"url(\" + data + \")\"; var link = document.getElementById(\"NetworKit_Overlay_Toolbar_Bottom_Save\"); link.href = data; link.download = source.title + \".svg\"; } function NetworKit_overlayImageShift(delta) { var image = document.getElementById(\"NetworKit_Overlay_Image\"); var source = document.getElementById(image.getAttribute(\"data-id\")); var index = parseInt(source.getAttribute(\"data-image-index\")); var length = parseInt(source.getAttribute(\"data-image-length\")); var index = (index+delta) % length; if (index < 0) { index = length + index; } source.setAttribute(\"data-image-index\", index); NetworKit_overlayUpdate(source); } function NetworKit_toggleDetails(source) { var childs = source.children; var show = false; if (source.getAttribute(\"data-title\") == \"-\") { source.setAttribute(\"data-title\", \"+\"); show = false; } else { source.setAttribute(\"data-title\", \"-\"); show = true; } for (i=0; i<childs.length; i++) { if (show) { childs[i].style.display = \"block\"; } else { childs[i].style.display = \"none\"; } } }';\n",
       "\t\t\t\telement.setAttribute('id', 'NetworKit_script');\n",
       "\t\t\t\tdocument.head.appendChild(element);\n",
       "\t\t\t}\n",
       "\t\t\n",
       "\t\t\t\t\n",
       "\t\t\t{\n",
       "\t\t\t\tvar element = document.getElementById('NetworKit_style');\n",
       "\t\t\t\tif (element) {\n",
       "\t\t\t\t\telement.parentNode.removeChild(element);\n",
       "\t\t\t\t}\n",
       "\t\t\t\telement = document.createElement('style');\n",
       "\t\t\t\telement.type = 'text/css';\n",
       "\t\t\t\telement.innerHTML = '.NetworKit_Page { font-family: Arial, Helvetica, sans-serif; font-size: 14px; } .NetworKit_Page .Value:before { font-family: Arial, Helvetica, sans-serif; font-size: 1.05em; content: attr(data-title) \":\"; margin-left: -2.5em; padding-right: 0.5em; } .NetworKit_Page .Details .Value:before { display: block; } .NetworKit_Page .Value { font-family: monospace; white-space: pre; padding-left: 2.5em; white-space: -moz-pre-wrap !important; white-space: -pre-wrap; white-space: -o-pre-wrap; white-space: pre-wrap; word-wrap: break-word; tab-size: 4; -moz-tab-size: 4; } .NetworKit_Page .Category { clear: both; padding-left: 1em; margin-bottom: 1.5em; } .NetworKit_Page .Category:before { content: attr(data-title); font-size: 1.75em; display: block; margin-left: -0.8em; margin-bottom: 0.5em; } .NetworKit_Page .SubCategory { margin-bottom: 1.5em; padding-left: 1em; } .NetworKit_Page .SubCategory:before { font-size: 1.6em; display: block; margin-left: -0.8em; margin-bottom: 0.5em; } .NetworKit_Page .SubCategory[data-title]:before { content: attr(data-title); } .NetworKit_Page .Block { display: block; } .NetworKit_Page .Block:after { content: \".\"; visibility: hidden; display: block; height: 0; clear: both; } .NetworKit_Page .Block .Thumbnail_Overview, .NetworKit_Page .Block .Thumbnail_ScatterPlot { width: 260px; float: left; } .NetworKit_Page .Block .Thumbnail_Overview img, .NetworKit_Page .Block .Thumbnail_ScatterPlot img { width: 260px; } .NetworKit_Page .Block .Thumbnail_Overview:before, .NetworKit_Page .Block .Thumbnail_ScatterPlot:before { display: block; text-align: center; font-weight: bold; } .NetworKit_Page .Block .Thumbnail_Overview:before { content: attr(data-title); } .NetworKit_Page .HeatCell { font-family: \"Courier New\", Courier, monospace; cursor: pointer; } .NetworKit_Page .HeatCell, .NetworKit_Page .HeatCellName { display: inline; padding: 0.1em; margin-right: 2px; background-color: #FFFFFF } .NetworKit_Page .HeatCellName { margin-left: 0.25em; } .NetworKit_Page .HeatCell:before { content: attr(data-heat); display: inline-block; color: #000000; width: 4em; text-align: center; } .NetworKit_Page .Measure { clear: both; } .NetworKit_Page .Measure .Details { cursor: pointer; } .NetworKit_Page .Measure .Details:before { content: \"[\" attr(data-title) \"]\"; display: block; } .NetworKit_Page .Measure .Details .Value { border-left: 1px dotted black; margin-left: 0.4em; padding-left: 3.5em; pointer-events: none; } .NetworKit_Page .Measure .Details .Spacer:before { content: \".\"; opacity: 0.0; pointer-events: none; } .NetworKit_Page .Measure .Plot { width: 440px; height: 440px; cursor: pointer; float: left; margin-left: -0.9em; margin-right: 20px; } .NetworKit_Page .Measure .Plot .Image { background-repeat: no-repeat; background-position: center center; background-size: contain; height: 100%; pointer-events: none; } .NetworKit_Page .Measure .Stat { width: 500px; float: left; } .NetworKit_Page .Measure .Stat .Group { padding-left: 1.25em; margin-bottom: 0.75em; } .NetworKit_Page .Measure .Stat .Group .Title { font-size: 1.1em; display: block; margin-bottom: 0.3em; margin-left: -0.75em; border-right-style: dotted; border-right-width: 1px; border-bottom-style: dotted; border-bottom-width: 1px; background-color: #D0D0D0; padding-left: 0.2em; } .NetworKit_Page .Measure .Stat .Group .List { -webkit-column-count: 3; -moz-column-count: 3; column-count: 3; } .NetworKit_Page .Measure .Stat .Group .List .Entry { position: relative; line-height: 1.75em; } .NetworKit_Page .Measure .Stat .Group .List .Entry[data-tooltip]:before { position: absolute; left: 0; top: -40px; background-color: #808080; color: #ffffff; height: 30px; line-height: 30px; border-radius: 5px; padding: 0 15px; content: attr(data-tooltip); white-space: nowrap; display: none; } .NetworKit_Page .Measure .Stat .Group .List .Entry[data-tooltip]:after { position: absolute; left: 15px; top: -10px; border-top: 7px solid #808080; border-left: 7px solid transparent; border-right: 7px solid transparent; content: \"\"; display: none; } .NetworKit_Page .Measure .Stat .Group .List .Entry[data-tooltip]:hover:after, .NetworKit_Page .Measure .Stat .Group .List .Entry[data-tooltip]:hover:before { display: block; } .NetworKit_Page .Measure .Stat .Group .List .Entry .MathValue { font-family: \"Courier New\", Courier, monospace; } .NetworKit_Page .Measure:after { content: \".\"; visibility: hidden; display: block; height: 0; clear: both; } .NetworKit_Page .PartitionPie { clear: both; } .NetworKit_Page .PartitionPie img { width: 600px; } #NetworKit_Overlay { left: 0px; top: 0px; display: none; position: absolute; width: 100%; height: 100%; background-color: rgba(0,0,0,0.6); z-index: 1000; } #NetworKit_Overlay_Title { position: absolute; color: white; transform: rotate(-90deg); width: 32em; height: 32em; padding-right: 0.5em; padding-top: 0.5em; text-align: right; font-size: 40px; } #NetworKit_Overlay .button { background: white; cursor: pointer; } #NetworKit_Overlay .button:before { size: 13px; display: inline-block; text-align: center; margin-top: 0.5em; margin-bottom: 0.5em; width: 1.5em; height: 1.5em; } #NetworKit_Overlay .icon-close:before { content: \"X\"; } #NetworKit_Overlay .icon-previous:before { content: \"P\"; } #NetworKit_Overlay .icon-next:before { content: \"N\"; } #NetworKit_Overlay .icon-save:before { content: \"S\"; } #NetworKit_Overlay_Toolbar_Top, #NetworKit_Overlay_Toolbar_Bottom { position: absolute; width: 40px; right: 13px; text-align: right; z-index: 1100; } #NetworKit_Overlay_Toolbar_Top { top: 0.5em; } #NetworKit_Overlay_Toolbar_Bottom { Bottom: 0.5em; } #NetworKit_Overlay_ImageContainer { position: absolute; top: 5%; left: 5%; height: 90%; width: 90%; background-repeat: no-repeat; background-position: center center; background-size: contain; } #NetworKit_Overlay_Image { height: 100%; width: 100%; background-repeat: no-repeat; background-position: center center; background-size: contain; }';\n",
       "\t\t\t\telement.setAttribute('id', 'NetworKit_style');\n",
       "\t\t\t\tdocument.head.appendChild(element);\n",
       "\t\t\t}\n",
       "\t\t\n",
       "\t\t\t\t\n",
       "\t\t\t{\n",
       "\t\t\t\tvar element = document.getElementById('NetworKit_Overlay');\n",
       "\t\t\t\tif (element) {\n",
       "\t\t\t\t\telement.parentNode.removeChild(element);\n",
       "\t\t\t\t}\n",
       "\t\t\t\telement = document.createElement('div');\n",
       "\t\t\t\telement.innerHTML = '<div id=\"NetworKit_Overlay_Toolbar_Top\"><div class=\"button icon-close\" id=\"NetworKit_Overlay_Close\" /></div><div id=\"NetworKit_Overlay_Title\" /> <div id=\"NetworKit_Overlay_ImageContainer\"> <div id=\"NetworKit_Overlay_Image\" /> </div> <div id=\"NetworKit_Overlay_Toolbar_Bottom\"> <div class=\"button icon-previous\" onclick=\"NetworKit_overlayImageShift(-1)\" /> <div class=\"button icon-next\" onclick=\"NetworKit_overlayImageShift(1)\" /> <a id=\"NetworKit_Overlay_Toolbar_Bottom_Save\"><div class=\"button icon-save\" /></a> </div>';\n",
       "\t\t\t\telement.setAttribute('id', 'NetworKit_Overlay');\n",
       "\t\t\t\tdocument.body.appendChild(element);\n",
       "\t\t\t\tdocument.getElementById('NetworKit_Overlay_Close').onclick = function (e) {\n",
       "\t\t\t\t\tdocument.getElementById('NetworKit_Overlay').style.display = 'none';\n",
       "\t\t\t\t}\n",
       "\t\t\t}\n",
       "\t\t\n",
       "\t\t\t-->\n",
       "\t\t\t</script>\n",
       "\t\t"
      ]
     },
     "metadata": {},
     "output_type": "display_data"
    }
   ],
   "source": [
    "import pandas as pd\n",
    "import rasterio as rio\n",
    "import networkit as nk\n",
    "import networkx as nx\n",
    "\n",
    "import sys\n",
    "sys.path.append('C:/Users/pj276/Projects/undp_connectivity/code/functions')\n",
    "import reskernel_functions as rkf\n",
    "import numpy as np, time\n",
    "from numpy import copy\n",
    "import rasterio as rio\n",
    "import networkit as nk\n",
    "from itertools import zip_longest\n",
    "from itertools import chain"
   ]
  },
  {
   "cell_type": "code",
   "execution_count": 2,
   "id": "51e49003-2370-4afe-b98e-b476d0d5b9b6",
   "metadata": {},
   "outputs": [],
   "source": [
    "# Functions\n",
    "# Coords is a two column array where 1st column is x's and 2nd column is y's\n",
    "def cell_indices_from_coords_nowindow(src, src_data, coords):\n",
    "    # proceed if there are any target values in the array\n",
    "    if coords.ndim > 0: #coords.shape[0] > 0:\n",
    "        # get rows and columns of coordinates\n",
    "        row, col = rio.transform.rowcol(src.transform, coords[:,0], coords[:,1])\n",
    "        cinds = np.array((row,col)).transpose()\n",
    "    else:\n",
    "        cinds = np.array(np.nan)\n",
    "    return cinds"
   ]
  },
  {
   "cell_type": "code",
   "execution_count": 3,
   "id": "c5506380-89a3-401d-a64f-c6908315a6c2",
   "metadata": {},
   "outputs": [],
   "source": [
    "# Coordinate reference system\n",
    "# crsString = 'ESRI:102028'\n",
    "# Cell size\n",
    "cSize = 500\n",
    "\n",
    "# xy coordinate file\n",
    "xyf = 'C:/Users/pj276/Projects/CDPOP/data/sabah_example1_1686679883/batchrun0mcrun0/XY200.csv'\n",
    "xy = pd.read_csv(xyf)\n",
    "\n",
    "# resistance grid file\n",
    "rg = 'C:/Users/pj276/Projects/UNICOR/unicor/resist_sabah_example_pro.tif'\n",
    "with rio.open(rg) as src:\n",
    "    r = src.read(1)\n",
    "    # Convert to int16\n",
    "    r = copy(r).astype(np.int16)"
   ]
  },
  {
   "cell_type": "code",
   "execution_count": 4,
   "id": "93379c24-acfa-4934-bdbe-7d2636c8b5e1",
   "metadata": {},
   "outputs": [
    {
     "name": "stdout",
     "output_type": "stream",
     "text": [
      "Converting image to graph\n",
      "Converting image to graph took 13.3193 seconds\n",
      "number of edges =  1148287\n"
     ]
    }
   ],
   "source": [
    "print(\"Converting image to graph\", flush=True)\n",
    "tic = time.perf_counter()\n",
    "nkG, nodeids, idmap = rkf.image_to_graph(r, cSize, -9999)\n",
    "toc = time.perf_counter()\n",
    "print(f\"Converting image to graph took {toc - tic:0.4f} seconds\", flush=True)\n",
    "print(\"number of edges = \", str(nkG.numberOfEdges()), flush=True)"
   ]
  },
  {
   "cell_type": "code",
   "execution_count": 5,
   "id": "e5ec0fac-e106-42f4-8117-d0d0bdc00bd5",
   "metadata": {},
   "outputs": [
    {
     "name": "stdout",
     "output_type": "stream",
     "text": [
      "number of sources = 244\n",
      "1234\n",
      "2596\n"
     ]
    }
   ],
   "source": [
    "with rio.open(rg) as src:\n",
    "    # Get source indices as rows and columns\n",
    "    cinds = cell_indices_from_coords_nowindow(src, r, np.array(xy))\n",
    "    # Convert to 1D\n",
    "    sources = [(i[0]*r.shape[1])+i[1] for i in cinds]\n",
    "    # Convert to networkit nodeids\n",
    "    sources = [idmap[n] for n in sources]\n",
    "    print(\"number of sources = \" + str(len(sources)), flush=True)\n",
    "print(sources[0])\n",
    "print(sources[2])"
   ]
  },
  {
   "cell_type": "code",
   "execution_count": 24,
   "id": "a6bf8dc2-cef2-4f21-9b0e-4950e417dd76",
   "metadata": {},
   "outputs": [],
   "source": [
    "nk.setNumberOfThreads(3)"
   ]
  },
  {
   "cell_type": "code",
   "execution_count": null,
   "id": "f6d5508f-58eb-4025-9f10-7f4aa9cd452f",
   "metadata": {},
   "outputs": [],
   "source": [
    "sPaths = []\n",
    "source = 2596\n",
    "tic = time.perf_counter()\n",
    "dij = nk.distance.Dijkstra(nkG, source, storePaths=True, storeNodesSortedByDistance=False)\n",
    "dij.run()\n",
    "for target in sources:\n",
    "    # The distance from source to target node\n",
    "    #print(dij.distance(target))\n",
    "    # The number of paths\n",
    "    #print(dij.numberOfPaths(target))\n",
    "    # Returns shortest paths from source to target\n",
    "    sPs = dij.getPaths(target)\n",
    "    sPaths.append(sPs)\n",
    "toc = time.perf_counter()\n",
    "print(f\"Calculating shortest paths took {toc - tic:0.4f} seconds\", flush=True)"
   ]
  },
  {
   "cell_type": "code",
   "execution_count": 60,
   "id": "38e19cb5-1c21-48a2-934a-0ae254f4a394",
   "metadata": {},
   "outputs": [
    {
     "name": "stdout",
     "output_type": "stream",
     "text": [
      "244\n",
      "[1408, 1409, 1410, 1411, 1412, 1413, 1414, 1415, 1416, 1417, 1360, 1297, 1298, 1233, 1234, 1408, 1409, 1410, 1411, 1412, 1413, 1414, 1415, 1416, 1417, 1360, 1297, 1298, 1299, 1234, 1408, 1409, 1410, 1411, 1412, 1413, 1414, 1415, 1416, 1417, 1360, 1361, 1298, 1233, 1234, 1408, 1409, 1410, 1411, 1412, 1413, 1414, 1415, 1416, 1417, 1360, 1361, 1298, 1299, 1234, 1408, 1409, 1410, 1411, 1412, 1413, 1414, 1415, 1416, 1417, 1418, 1361, 1298, 1233, 1234, 1408, 1409, 1410, 1411, 1412, 1413, 1414, 1415, 1416, 1417, 1418, 1361, 1298, 1299, 1234, 1408, 1407, 1406, 1405, 1404, 1403, 1402, 1401, 1400, 1399, 1398, 1397, 1396, 1395, 1394, 1393, 1392, 1391, 1390, 1389, 1388, 1387, 1386, 1446, 1445, 1444]\n"
     ]
    }
   ],
   "source": [
    "print(len(sPaths))\n",
    "merged = list(chain.from_iterable(sPaths))\n",
    "merged = list(chain.from_iterable(merged))\n",
    "print(merged)"
   ]
  },
  {
   "cell_type": "code",
   "execution_count": 52,
   "id": "8c33b3dd-d6e2-46be-938f-53135e96ee18",
   "metadata": {},
   "outputs": [
    {
     "name": "stdout",
     "output_type": "stream",
     "text": [
      "91\n",
      "1.7324000000000002\n"
     ]
    }
   ],
   "source": [
    "print(len(merged))\n",
    "print((0.0071*244))"
   ]
  },
  {
   "cell_type": "code",
   "execution_count": 7,
   "id": "945f06d4-762c-482f-bfa7-210d46e87abf",
   "metadata": {},
   "outputs": [
    {
     "name": "stdout",
     "output_type": "stream",
     "text": [
      "Calculating shortest paths took 7.3161 seconds\n"
     ]
    }
   ],
   "source": [
    "tic = time.perf_counter()\n",
    "aa = nk.distance.SPSP(nkG, sources)\n",
    "aa.run()\n",
    "bb = aa.getDistances()\n",
    "toc = time.perf_counter()\n",
    "print(f\"Calculating shortest paths took {toc - tic:0.4f} seconds\", flush=True)"
   ]
  },
  {
   "cell_type": "code",
   "execution_count": 26,
   "id": "ee64963c-2661-46ca-82e1-fe6c015e39c8",
   "metadata": {},
   "outputs": [],
   "source": [
    "# Get distances to other source nodes only\n",
    "ccList = []\n",
    "for i in bb:\n",
    "    cc = [ i[s] for s in sources]\n",
    "    ccList.append(cc)\n",
    "# NEXT\n",
    "# Idenitify node pairs that are less than some threshold distance\n",
    "# Use these node pairs in Dijkstra calculations"
   ]
  },
  {
   "cell_type": "code",
   "execution_count": null,
   "id": "7f3f94dd-32c5-4d8b-a9bf-6f36b14c136c",
   "metadata": {},
   "outputs": [],
   "source": [
    "dij = nk.distance.Dijkstra(nkG, 2596, storePaths=True, storeNodesSortedByDistance=False)\n",
    "dij.run()\n",
    "dij.getPaths(289361)"
   ]
  },
  {
   "cell_type": "code",
   "execution_count": 25,
   "id": "d8f845e2-4894-4e64-92db-d0e992982cf5",
   "metadata": {},
   "outputs": [
    {
     "data": {
      "text/plain": [
       "1"
      ]
     },
     "execution_count": 25,
     "metadata": {},
     "output_type": "execute_result"
    }
   ],
   "source": [
    "nk.getCurrentNumberOfThreads()"
   ]
  },
  {
   "cell_type": "code",
   "execution_count": 22,
   "id": "68a810b3-dbf0-41e3-8bf5-4782779abd79",
   "metadata": {},
   "outputs": [
    {
     "name": "stdout",
     "output_type": "stream",
     "text": [
      "[1.7976931348623157e+308, 1.7976931348623157e+308, 1661398.0959472656, 1646708.7630004883, 1375242.5042114258, 1377918.1693725586, 1308577.7693481445, 1127599.848083496, 1057991.4631958008, 1107334.0859375, 966736.6298217773, 1022350.5893554688, 878443.2131958008, 945836.6115722656, 983190.1647949219, 1107930.801208496, 1176642.21875, 1024046.0241088867, 1155569.8876953125, 1006993.9865722656, 779090.3999633789, 1219040.9724731445, 899500.8251953125, 848213.5055541992, 968753.1340332031, 989981.0559082031, 942860.4735717773, 843599.5454711914, 904355.6414794922, 801726.9617919922, 792271.1165771484, 879809.700378418, 841935.3319702148, 922129.5047607422, 810628.9831542969, 757655.3724975586, 899962.2431030273, 933796.7662353516, 956520.3768310547, 834108.6896362305, 778790.1481933594, 1026269.1141357422, 939956.665222168, 1094638.4317626953, 946304.1258544922, 1036847.5423583984, 808024.9067382812, 954746.5135498047, 969435.1126708984, 967857.426574707, 984928.4943237305, 1301607.208618164, 711029.7403564453, 698393.1797485352, 1148920.39453125, 1161883.5993041992, 1208104.6868896484, 662610.6943359375, 911626.977355957, 792608.6915283203, 707396.7520751953, 923990.9398803711, 844723.9125366211, 1551957.3688964844, 2817692.515319824, 1099750.6086425781, 790972.1274414062, 1097297.0734863281, 734942.6936645508, 798965.2919311523, 695290.1508178711, 1433069.0236206055, 1035867.6169433594, 2550438.423095703, 702325.6845703125, 2447563.007507324, 2469695.260986328, 699712.9855957031, 2403443.473876953, 1017402.1965332031, 2575346.540283203, 2382263.058288574, 684266.2873535156, 682215.2922363281, 2435955.234069824, 870452.5769042969, 2628836.8715820312, 834894.2262573242, 863425.9723510742, 2267101.5888061523, 968315.3571166992, 1924528.1246948242, 2413468.078552246, 292828.4270019531, 515526.91064453125, 1016424.7113647461, 1933881.0211791992, 284656.85400390625, 929159.1618652344, 1434833.9508666992, 0.0, 100500.0, 365788.88671875, 1615759.621459961, 331446.265625, 2284686.551635742, 807838.3970336914, 567416.5213012695, 2398965.989074707, 1442838.2644042969, 1687578.9024658203, 696331.2551879883, 2114466.7283935547, 2261376.631652832, 2250267.198852539, 1853968.7252807617, 2112700.22064209, 2138344.6651000977, 2504858.946960449, 2005898.7047729492, 1160648.8366088867, 523096.7171020508, 1700899.6647338867, 1012313.3576660156, 729944.4736328125, 883019.852722168, 2106409.7271728516, 1306047.155090332, 2323380.9403686523, 1366950.8766479492, 1614223.4752807617, 2778234.7118530273, 3024484.7118530273, 1346308.8193359375, 805404.1079101562, 813128.9815673828, 733695.2161254883, 1720365.3920288086, 1587932.8046264648, 947566.3173217773, 1351761.5360717773, 2268838.2662963867, 871480.0089111328, 1344901.5822143555, 1724499.2162475586, 2445332.6904907227, 1063376.2362060547, 1864417.430114746, 1422479.3475952148, 1893843.0981445312, 935798.5509033203, 845642.4376220703, 1187625.9345092773, 847800.5548095703, 3285959.586364746, 1574790.0162353516, 904413.7731933594, 742655.3717041016, 2400166.6931762695, 939218.3366699219, 2842998.6892700195, 675889.391784668, 1301137.6881103516, 956310.7427368164, 2632214.4174804688, 1003979.2666015625, 865255.1366577148, 851962.983581543, 1856430.2382202148, 773716.5537719727, 1376103.1990966797, 1693724.8231811523, 2311123.3588867188, 1147586.390258789, 827992.943359375, 1104105.4210205078, 947317.5784912109, 2146961.1548461914, 811189.6424560547, 981831.0333862305, 967831.0333862305, 1900125.4979858398, 1233601.6347045898, 1057122.6640014648, 1974134.7294311523, 2256942.1239624023, 1605108.2518920898, 1986620.0104370117, 2345072.585876465, 768377.7171630859, 885733.0599975586, 911687.6349487305, 747192.6904907227, 667301.8165893555, 1283674.7020874023, 1342394.304321289, 897369.0969238281, 764298.7700805664, 1503739.233581543, 938672.9171142578, 908745.2483520508, 886441.9487915039, 990264.7997436523, 714667.5659179688, 1.7976931348623157e+308, 927973.1698608398, 1029513.536315918, 1409971.4706420898, 989593.448425293, 942526.4707641602, 812794.9815063477, 1184711.799987793, 949400.8388061523, 2282142.085144043, 738692.6885375977, 989949.8280639648, 1253846.5801391602, 2010478.3932495117, 1321093.448425293, 948554.6450195312, 987164.2943115234, 1257305.4733276367, 951226.2180175781, 951726.2180175781, 1392020.9834594727, 956418.6057739258, 1297957.493713379, 1353749.3380737305, 1258770.1564331055, 1877599.4120483398, 1940237.452331543, 2274212.848815918, 1209469.9035644531, 998500.0811157227, 1412873.7057495117, 1329450.3540039062, 1558208.2348632812, 1057020.8963012695, 747499.0385742188, 1159336.9145507812, 1420918.1669311523, 1211055.6885375977, 752781.5239257812, 759158.9407348633]\n"
     ]
    }
   ],
   "source": [
    "atest = [ bb[100][i] for i in sources]\n",
    "print(atest)"
   ]
  },
  {
   "cell_type": "code",
   "execution_count": 32,
   "id": "4f7d4a6d-2314-4153-9a54-2be59f026107",
   "metadata": {},
   "outputs": [
    {
     "name": "stdout",
     "output_type": "stream",
     "text": [
      "[1.7976931348623157e+308, 1.7976931348623157e+308, 1661398.0959472656, 1646708.7630004883, 1375242.5042114258, 1377918.1693725586, 1308577.7693481445, 1127599.848083496, 1057991.4631958008, 1107334.0859375, 966736.6298217773, 1022350.5893554688, 878443.2131958008, 945836.6115722656, 983190.1647949219, 1107930.801208496, 1176642.21875, 1024046.0241088867, 1155569.8876953125, 1006993.9865722656, 779090.3999633789, 1219040.9724731445, 899500.8251953125, 848213.5055541992, 968753.1340332031, 989981.0559082031, 942860.4735717773, 843599.5454711914, 904355.6414794922, 801726.9617919922, 792271.1165771484, 879809.700378418, 841935.3319702148, 922129.5047607422, 810628.9831542969, 757655.3724975586, 899962.2431030273, 933796.7662353516, 956520.3768310547, 834108.6896362305, 778790.1481933594, 1026269.1141357422, 939956.665222168, 1094638.4317626953, 946304.1258544922, 1036847.5423583984, 808024.9067382812, 954746.5135498047, 969435.1126708984, 967857.426574707, 984928.4943237305, 1301607.208618164, 711029.7403564453, 698393.1797485352, 1148920.39453125, 1161883.5993041992, 1208104.6868896484, 662610.6943359375, 911626.977355957, 792608.6915283203, 707396.7520751953, 923990.9398803711, 844723.9125366211, 1551957.3688964844, 2817692.515319824, 1099750.6086425781, 790972.1274414062, 1097297.0734863281, 734942.6936645508, 798965.2919311523, 695290.1508178711, 1433069.0236206055, 1035867.6169433594, 2550438.423095703, 702325.6845703125, 2447563.007507324, 2469695.260986328, 699712.9855957031, 2403443.473876953, 1017402.1965332031, 2575346.540283203, 2382263.058288574, 684266.2873535156, 682215.2922363281, 2435955.234069824, 870452.5769042969, 2628836.8715820312, 834894.2262573242, 863425.9723510742, 2267101.5888061523, 968315.3571166992, 1924528.1246948242, 2413468.078552246, 292828.4270019531, 515526.91064453125, 1016424.7113647461, 1933881.0211791992, 284656.85400390625, 929159.1618652344, 1434833.9508666992, 0.0, 100500.0, 365788.88671875, 1615759.621459961, 331446.265625, 2284686.551635742, 807838.3970336914, 567416.5213012695, 2398965.989074707, 1442838.2644042969, 1687578.9024658203, 696331.2551879883, 2114466.7283935547, 2261376.631652832, 2250267.198852539, 1853968.7252807617, 2112700.22064209, 2138344.6651000977, 2504858.946960449, 2005898.7047729492, 1160648.8366088867, 523096.7171020508, 1700899.6647338867, 1012313.3576660156, 729944.4736328125, 883019.852722168, 2106409.7271728516, 1306047.155090332, 2323380.9403686523, 1366950.8766479492, 1614223.4752807617, 2778234.7118530273, 3024484.7118530273, 1346308.8193359375, 805404.1079101562, 813128.9815673828, 733695.2161254883, 1720365.3920288086, 1587932.8046264648, 947566.3173217773, 1351761.5360717773, 2268838.2662963867, 871480.0089111328, 1344901.5822143555, 1724499.2162475586, 2445332.6904907227, 1063376.2362060547, 1864417.430114746, 1422479.3475952148, 1893843.0981445312, 935798.5509033203, 845642.4376220703, 1187625.9345092773, 847800.5548095703, 3285959.586364746, 1574790.0162353516, 904413.7731933594, 742655.3717041016, 2400166.6931762695, 939218.3366699219, 2842998.6892700195, 675889.391784668, 1301137.6881103516, 956310.7427368164, 2632214.4174804688, 1003979.2666015625, 865255.1366577148, 851962.983581543, 1856430.2382202148, 773716.5537719727, 1376103.1990966797, 1693724.8231811523, 2311123.3588867188, 1147586.390258789, 827992.943359375, 1104105.4210205078, 947317.5784912109, 2146961.1548461914, 811189.6424560547, 981831.0333862305, 967831.0333862305, 1900125.4979858398, 1233601.6347045898, 1057122.6640014648, 1974134.7294311523, 2256942.1239624023, 1605108.2518920898, 1986620.0104370117, 2345072.585876465, 768377.7171630859, 885733.0599975586, 911687.6349487305, 747192.6904907227, 667301.8165893555, 1283674.7020874023, 1342394.304321289, 897369.0969238281, 764298.7700805664, 1503739.233581543, 938672.9171142578, 908745.2483520508, 886441.9487915039, 990264.7997436523, 714667.5659179688, 1.7976931348623157e+308, 927973.1698608398, 1029513.536315918, 1409971.4706420898, 989593.448425293, 942526.4707641602, 812794.9815063477, 1184711.799987793, 949400.8388061523, 2282142.085144043, 738692.6885375977, 989949.8280639648, 1253846.5801391602, 2010478.3932495117, 1321093.448425293, 948554.6450195312, 987164.2943115234, 1257305.4733276367, 951226.2180175781, 951726.2180175781, 1392020.9834594727, 956418.6057739258, 1297957.493713379, 1353749.3380737305, 1258770.1564331055, 1877599.4120483398, 1940237.452331543, 2274212.848815918, 1209469.9035644531, 998500.0811157227, 1412873.7057495117, 1329450.3540039062, 1558208.2348632812, 1057020.8963012695, 747499.0385742188, 1159336.9145507812, 1420918.1669311523, 1211055.6885375977, 752781.5239257812, 759158.9407348633]\n"
     ]
    }
   ],
   "source": [
    "print(ccList[100])\n",
    "\n"
   ]
  },
  {
   "cell_type": "code",
   "execution_count": 14,
   "id": "a26b20b1-32c0-497d-8726-e2a4b3820878",
   "metadata": {},
   "outputs": [
    {
     "data": {
      "text/plain": [
       "691327"
      ]
     },
     "execution_count": 14,
     "metadata": {},
     "output_type": "execute_result"
    }
   ],
   "source": [
    "749*923"
   ]
  },
  {
   "cell_type": "code",
   "execution_count": null,
   "id": "5e33c002-2df3-4094-9453-01d43fd81aa3",
   "metadata": {},
   "outputs": [],
   "source": []
  }
 ],
 "metadata": {
  "kernelspec": {
   "display_name": "Python [conda env:cdujlab] *",
   "language": "python",
   "name": "conda-env-cdujlab-py"
  },
  "language_info": {
   "codemirror_mode": {
    "name": "ipython",
    "version": 3
   },
   "file_extension": ".py",
   "mimetype": "text/x-python",
   "name": "python",
   "nbconvert_exporter": "python",
   "pygments_lexer": "ipython3",
   "version": "3.10.9"
  }
 },
 "nbformat": 4,
 "nbformat_minor": 5
}
