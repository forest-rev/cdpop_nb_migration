{
 "cells": [
  {
   "cell_type": "markdown",
   "id": "439a10a2-1508-4a9a-8ea9-99d9de1ae841",
   "metadata": {},
   "source": [
    "# UNICOR to Notebook Migration"
   ]
  },
  {
   "cell_type": "markdown",
   "id": "91c3b867-c876-43dc-aa55-eee174f05e6e",
   "metadata": {},
   "source": [
    "#### Author: Patrick Jantz\n",
    "#### Date: June 12, 2023\n",
    "#### Contact: Patrick.Jantz@nau.edu\n",
    "#### Purpose:\n",
    "UNICOR currently runs from the command line. <br>\n",
    "Running UNICOR from a python notebook facilitates interactive analysis and lays the groundwork for development of a web application for non-technical users. <br>\n",
    "This script is for testing different approaches for migrating UNICOR to a python notebook and adding desired functionality.\n",
    "\n",
    "#### Notes:\n",
    "Clone UNICOR using Git bash shell or GUI (shell commands below) <br>\n",
    "git clone https://github.com/ComputationalEcologyLab/UNICOR.git <br>\n",
    "Set up an empty repo in Git. e.g. unicor_nb_migration <br>\n",
    "Change the remote to the repo you just set up <br>\n",
    "git remote add origin https://github.com/forest-rev/unicor_nb_migration.git <br>\n",
    "git branch -M main <br>\n",
    "git push -u origin main <br>\n"
   ]
  },
  {
   "cell_type": "code",
   "execution_count": 4,
   "id": "ab539652-8f4c-4f90-83a7-9d713e8562ce",
   "metadata": {},
   "outputs": [],
   "source": [
    "# Imports\n",
    "import pandas as pd\n",
    "import ipywidgets as widgets\n",
    "#import ipysheet\n",
    "#from ipysheet import from_dataframe, to_dataframe\n",
    "from pathlib import Path"
   ]
  },
  {
   "cell_type": "code",
   "execution_count": 21,
   "id": "58df0550-bd15-407d-a049-6d816cfb2c31",
   "metadata": {},
   "outputs": [
    {
     "name": "stdout",
     "output_type": "stream",
     "text": [
      "C:\\Users\\pj276\\Projects\\CDPOP\\data\n",
      "Input data directory is set to: \n",
      "C:/Users/pj276/Projects/CDPOP/data\n"
     ]
    }
   ],
   "source": [
    "# Use input path from CDPOP run to list XY files \n",
    "# This requires saving the CDPOP output path as a variable for reuse here.\n",
    "# Or allowing users to choose a file or directory.\n",
    "# Hard code for testing purposes\n",
    "idd = \"C:/Users/pj276/Projects/CDPOP/data\"\n",
    "#%cd {idd}\n",
    "print('Input data directory is set to: \\n' + idd)"
   ]
  },
  {
   "cell_type": "code",
   "execution_count": 35,
   "id": "2b0e9f48-0114-4441-96d1-f685ebd44bc0",
   "metadata": {},
   "outputs": [],
   "source": [
    "# We also need the base name used in the CDPOP run to list files.\n",
    "# As above we could allow users to choose a file here\n",
    "# Hard code for testing purposes\n",
    "baseNameCdpop = \"sabah_example1_\""
   ]
  },
  {
   "cell_type": "code",
   "execution_count": 36,
   "id": "0365df64-3a01-444a-b1f7-e877770d7cfe",
   "metadata": {},
   "outputs": [
    {
     "name": "stdout",
     "output_type": "stream",
     "text": [
      "[WindowsPath('C:/Users/pj276/Projects/CDPOP/data/sabah_example1_1686679883/batchrun0mcrun0/XY0.csv'), WindowsPath('C:/Users/pj276/Projects/CDPOP/data/sabah_example1_1686679883/batchrun0mcrun0/XY1.csv'), WindowsPath('C:/Users/pj276/Projects/CDPOP/data/sabah_example1_1686679883/batchrun0mcrun0/XY200.csv')]\n"
     ]
    }
   ],
   "source": [
    "# List xy files from CDPOP output\n",
    "uniXY = Path(idd)\n",
    "# Get CDPOP output directory\n",
    "uniPath = Path(list(uniXY.glob(baseNameCdpop + '*'))[0])\n",
    "# List files\n",
    "fList = list(uniPath.glob('**/*'))\n",
    "# Filter for xy files\n",
    "xyFiles = [i for i in fList if 'XY' in str(i)]\n",
    "print(xyFiles)\n",
    "# Run UNICOR? \n",
    "# If yes\n",
    "# Find output folder\n",
    "# List XY files\n",
    "# Calculate resistant kernels for each XY"
   ]
  },
  {
   "cell_type": "code",
   "execution_count": 26,
   "id": "86f1efa6-51c7-45a9-84de-9788954361a5",
   "metadata": {},
   "outputs": [],
   "source": [
    "# Directory in which to save .rip file\n",
    "uniRipPath = 'C:/Users/pj276/Projects/UNICOR/unicor'\n",
    "\n",
    "# Template for parameter file. Write this to file but use brackets with ** unpacking\n",
    "# to replace values in brackets with those specified by variables below.\n",
    "ptwrite = \"\"\"Session_label {Session_label}\n",
    "Grid_Filename {Grid_Filename}\n",
    "XY_Filename {XY_Filename}\n",
    "Use_Direction {Use_Direction}\n",
    "Type_Direction {Type_Direction}\n",
    "Use_Resistance {Use_Resistance} \n",
    "Barrier_or_U_Filename {Barrier_or_U_Filename}\n",
    "Direction_or_V_Filename {Direction_or_V_Filename}\n",
    "Speed_To_Resistance_Scale {Speed_To_Resistance_Scale}\n",
    "Use_ED_threshold {Use_ED_threshold}\n",
    "ED_Distance {ED_Distance}\n",
    "Edge_Type {Edge_Type}\n",
    "Transform_function {Transform_function}\n",
    "Const_kernal_vol {Const_kernal_vol}\n",
    "Kernel_volume {Kernel_volume}\n",
    "Edge_Distance {Edge_Distance}\n",
    "Number_of_Processes {Number_of_Processes}\n",
    "KDE_Function {KDE_Function}\n",
    "KDE_GridSize {KDE_GridSize}\n",
    "Number_of_Categories {Number_of_Categories}\n",
    "Save_Path_Output {Save_Path_Output}\n",
    "Save_IndividualPaths_Output {Save_IndividualPaths_Output}\n",
    "Save_GraphMetrics_Output {Save_GraphMetrics_Output}\n",
    "Save_KDE_Output {Save_KDE_Output}\n",
    "Save_Category_Output {Save_Category_Output}\n",
    "Save_CDmatrix_Output {Save_CDmatrix_Output}\"\"\"\n",
    "\n",
    "# Basic variables to include in streamlit user interface\n",
    "# v1, v2, v3, v10, v11, v12, v14, v15, v16, v19, v20, v21, v24, v25, v26\n",
    "# Note: Right now it is unclear how ED_Threshold and ED_Distance relate to\n",
    "# Edge_Type and Edge_Distance parameters.\n",
    "v1 = 'sabah_example'\n",
    "v2 = 'resist_sabah_example.rsg'\n",
    "v3 = 'C:/Users/pj276/Projects/CDPOP/data/sabah_example1_1686679883/batchrun0mcrun0/XY0.csv'\n",
    "v4 = 'FALSE'\n",
    "v5 = ''\n",
    "v6 = 'TRUE'\n",
    "v7 = ''\n",
    "v8 = ''\n",
    "v9 = ''\n",
    "v10 = 'FALSE'\n",
    "v11 = '10000'\n",
    "v12 = 'all_paths'\n",
    "v13 = 'inverse_square'\n",
    "v14 = 'FALSE'\n",
    "v15 = '10000'\n",
    "v16 = '100000'\n",
    "v17 = '4'\n",
    "v18 = 'Gaussian'\n",
    "v19 = '2'\n",
    "v20 = '5'\n",
    "v21 = 'FALSE'\n",
    "v22 = 'FALSE'\n",
    "v23 = 'FALSE'\n",
    "v24 = 'TRUE'\n",
    "v25 = 'FALSE'\n",
    "v26 = 'FALSE'\n",
    "\n",
    "context = {'Session_label': v1, 'Grid_Filename': v2, 'XY_Filename': v3,\n",
    "          'Use_Direction': v4, 'Type_Direction': v5, 'Use_Resistance': v6,\n",
    "          'Barrier_or_U_Filename': v7, 'Direction_or_V_Filename': v8, 'Speed_To_Resistance_Scale': v9,\n",
    "          'Use_ED_threshold': v10, 'ED_Distance': v11, 'Edge_Type': v12,\n",
    "          'Transform_function': v13, 'Const_kernal_vol': v14, 'Kernel_volume': v15,\n",
    "          'Edge_Distance': v16, 'Number_of_Processes': v17, 'KDE_Function': v18,\n",
    "          'KDE_GridSize': v19, 'Number_of_Categories': v20, 'Save_Path_Output': v21,\n",
    "          'Save_IndividualPaths_Output': v22, 'Save_GraphMetrics_Output': v23, 'Save_KDE_Output': v24,\n",
    "          'Save_Category_Output': v25, 'Save_CDmatrix_Output': v26}\n",
    "\n",
    "# Save text file with specified inputs plugged into corresponding locations\n",
    "with open(uniRipPath + '/' + 'sabah_example.rip', 'w') as myfile:\n",
    "    myfile.write(ptwrite.format(**context))"
   ]
  },
  {
   "cell_type": "code",
   "execution_count": 34,
   "id": "a77b32c0-1480-451f-bcf8-ca8597e6099a",
   "metadata": {},
   "outputs": [
    {
     "name": "stdout",
     "output_type": "stream",
     "text": [
      "UNICOR directory is:\n",
      "C:\\Users\\pj276\\Projects\\UNICOR\\unicor\n",
      "UNICOR parameter file is:\n",
      "C:/Users/pj276/Projects/UNICOR/unicor/sabah_example.rip\n"
     ]
    }
   ],
   "source": [
    "# Switch to UNICOR dir\n",
    "unicorSource = 'C:/Users/pj276/Projects/UNICOR/unicor'\n",
    "srcPath = unicorSourceBox.value\n",
    "print('UNICOR directory is:')\n",
    "%cd {srcPath}\n",
    "\n",
    "# Set UNICOR param file\n",
    "unicorParam = 'C:/Users/pj276/Projects/UNICOR/unicor/sabah_example.rip'\n",
    "print('UNICOR parameter file is:')\n",
    "print(unicorParam)"
   ]
  },
  {
   "cell_type": "code",
   "execution_count": 31,
   "id": "2bc999ba-8488-4a79-9706-cf4a5586314f",
   "metadata": {},
   "outputs": [
    {
     "name": "stdout",
     "output_type": "stream",
     "text": [
      "\n",
      "UNICOR Release 2022-01-17T09:00:00MDT Version 3.0.00\n",
      "\n",
      "Author(s): E.L. Landguth, et al.\n",
      "\n",
      "Session runtime inputs from: (C:/Users/pj276/Projects/UNICOR/unicor/sabah_example.rip)\n",
      "\n",
      "\n",
      "Log output directed to     : (sabah_example.log)\n",
      "Total UNICOR program run-time: 0:10:41.971760\n"
     ]
    }
   ],
   "source": [
    "# Run UNICOR\n",
    "!python UNICOR.py {unicorParam}"
   ]
  },
  {
   "cell_type": "code",
   "execution_count": null,
   "id": "31403f7a-ccf8-490b-9414-f6d8844fe82a",
   "metadata": {},
   "outputs": [],
   "source": []
  }
 ],
 "metadata": {
  "kernelspec": {
   "display_name": "Python [conda env:cdujlab] *",
   "language": "python",
   "name": "conda-env-cdujlab-py"
  },
  "language_info": {
   "codemirror_mode": {
    "name": "ipython",
    "version": 3
   },
   "file_extension": ".py",
   "mimetype": "text/x-python",
   "name": "python",
   "nbconvert_exporter": "python",
   "pygments_lexer": "ipython3",
   "version": "3.10.9"
  }
 },
 "nbformat": 4,
 "nbformat_minor": 5
}
